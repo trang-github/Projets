{
 "cells": [
  {
   "cell_type": "markdown",
   "metadata": {},
   "source": [
    "Razafimbelo Fanoa & Nguyen Thi Thuy Trang"
   ]
  },
  {
   "cell_type": "markdown",
   "metadata": {},
   "source": [
    "# Projet phylogénétique\n",
    "Théophile Sanchez (theophile.sanchez@inria.fr) - Sarah Cohen Boulakia\n",
    "\n",
    "------\n",
    "\n",
    "## Introduction\n",
    "\n",
    "Au cours de ce projet, vous étudierez trois espèces disparues de félins qui vivaient autrefois sur le continent Américain. Ces trois espèces, le _smilodon_ (tigre à dents de sabre), l'*homotherium* (*scimitar toothed tigers*) et *Miracinonyx trumani* (guépard américain) se sont éteintes il y a environ 13 000 ans, à la fin de la dernière période glaciaire. Des séquences ADN anciennes de la protéine cytochrome b de ces espèces ont pu être séquencées et vont vous permettre de retrouver les liens de parentés entre ces espèces et des espèces de félins contemporaines : le chat domestique, le lion, le léopard, le tigre, le puma, le guépard et les chats sauvages africains, chinois et européens. Sont aussi présentes dans le jeu de donnée des séquences issues d'espèces extérieures aux félins.\n",
    "\n",
    "Afin de reconstruire l'arbre phylogénétique de ces espèces, vous utiliserez une méthode basée sur le calcul des distances évolutives entre les séquences ADN des protéines. Notez qu'une démarche similaire peut-être appliquée aux séquences d'acides aminés.\n",
    "\n",
    "Les différentes étapes qui vous permetterons de construire l'arbre sont détaillées dans ce notebook. Vous devrez implémenter les algorithmes en Python et répondre aux questions dans les cellules prévues.\n",
    "\n",
    "Quelques conseils :\n",
    "- Utiliser au maximum les fonctions présentes dans les packages de python (sauf si il vous est explicitement demandé de les réimplémenter). Si un problème vous paraît courant, il existe surement déjà une fonction pour le résoudre. Pour ce projet vous serez limité aux packages de base, à Numpy et ETE (seulement pour l'affichage des arbres).\n",
    "- Si une partie de votre code ne vous semble pas très explicite, ajoutez des commentaires pour l'expliquer. Une personne qui lit votre code doit pouvoir comprendre son fonctionnement facilement.\n",
    "- N'hésitez pas à chercher dans la documentation et sur internet. Cependant, faites très attention au plagiat, d'après les règles de l'université vous risquez beaucoup s'il est avéré ! \n",
    "\n",
    "Le projet est à rendre **en binôme** par mail. Vous regrouperez votre notebook et les fichiers nécessaires à son fonctionnement dans une archive portant vos noms et prénoms."
   ]
  },
  {
   "cell_type": "markdown",
   "metadata": {},
   "source": [
    "------\n",
    "## Importation des séquences\n",
    "\n",
    "Le format FASTA permet de stocker plusieurs séquences (ADN, ARN ou peptidiques) dans un fichier. Les séquences que vous allez étudier ont été regroupées dans le fichier `cat_dna.fasta`.\n",
    "\n",
    "**Exercice 1 :** Écriver une fonction permettant d'importer un fichier au format fasta et de le stocker dans un dictionnaire. Les clés seront les noms des séquences et les valeurs du dictionnaire seront les séquences d'adn."
   ]
  },
  {
   "cell_type": "code",
   "execution_count": 1,
   "metadata": {},
   "outputs": [
    {
     "name": "stdout",
     "output_type": "stream",
     "text": [
      ">Sabertooth DNA (Smilodon)\n",
      "CTAATTAAAATTATCAACCACTCATTCATTGATTTACCCACCCCATCCAACATTTCAGCA\n",
      "TGATGAAACTTCGGCTCCTTATTAGGAGTGTGCTTAATCTTACAAATCCTCACTGGCTTA\n",
      "TTTCTAGCCATACATTATACACCAGATACAACAACCGCCTTCTCATCAGTTACCCACATT\n",
      "TGCCGTGATGA--ATTACGGCTGAATTATCCGAT--ATATACGCCAATGGAGCTTCCATA\n",
      "TTCTTCATCTGCCTATATATACATGTAGGTCGAGCATATACTAC\n",
      "\n",
      ">Homotherium DNA\n",
      "CTAATTAAAATCATCAACCAATCATTCATTGACTTACCTACCCCCTCCAACATCTCAGCA\n",
      "TGATGAAACTTCGGATCCCTACTAGGCATTTGCCTAATTCTTCAAATCCTCACAGGCTTA\n",
      "TTCCTAGCCATACACTACACATCAGACACAACAACTGC-TTCTCATCAATCGCCCATATT\n",
      "TGCCGTGACGTAAATTATGGTTGAATTATCCGATATATACACGCCAATGGAGCCTCTATA\n",
      "TTCTTCCTGTCTATACCT--ACATGTAGCTCGAGAATTTATTAC\n",
      "\n",
      ">American Cat DNA (Miracinonyx)\n",
      "CTTATTAAAATCATTAATCACTCATTCATTGATCTACCCACCCCATCCAACATTTCAGCA\n",
      "TGATGAAACTTCGGTTCCCTA-TAGGGGTCTGCCTAATCCTACAAATCCTAACCGGCCTC\n",
      "TTCCTGGCTATA--CAACACATCAGACACAATAACCGCCTTTTCATCAGTTACTCACATC\n",
      "TGTCGTGACGTCAATTACGGCTGAATTATTCGGTAT-TACACGCCAACGGAGCCTCCATA\n",
      "TTCTTTATCTGCCTATACATGCACGTAGGGCGAGAATATATTAC\n",
      "\n",
      ">Spotted Hyena DNA\n",
      "CTCATTAAAATTATCAACAAATCATTCATTGACCTCCCCACCCCATCCAACATCTCGGCA\n",
      "TGGTGAAATTTCGGGTCACTATTAGGAATCTGCTTAATCTTACAAATCCTGACAGGTCTA\n",
      "TTCCTAGCCATACACTACACATCAGACACAACAACCGCCTTCTCATCAGTGACCCACATC\n",
      "TGCCGAGACGTAAACTACGGCTGAATCATCCGATACATACACGCCAACGGAGCTTCCATA\n",
      "TTCTTCATCTGTCTATATATACATATCGGCCGAGAATATACTAC\n",
      "\n",
      ">Striped Hyena DNA\n",
      "CTCATTAAAATTGTCAACGAATCATTCATCGATCTCCCCACCCCATCCAACATCTCAGCA\n",
      "TGATGAAACTTCGGATCGCTATTAGGAATCTGCCTAATCTTACAGATTCTGACAGGCCTA\n",
      "TTTCTAGCCATACACTACACATCAGACACAACAACCGCCTTTTCATCAGTAACACACATC\n",
      "TGCCGAGACGTCAACTATGGCTGAATTATCCGATATATGCACGCCAACGGGGCCTCCATG\n",
      "TTTTTCATCTGCCTGTTCATGCACGCCGGCCGAGAATGTACTAC\n",
      "\n",
      ">Chinese Desert cat DNA\n",
      "CTTATTAAAATCATCAACCATTCATTCATTGACCTACCCACCCCATCCAACATCTCAGCA\n",
      "TGATGAAATTTCGGCTCCCTATTAGGAGTCTGCCTAATCTTACAAATTCTCACCGGCCTC\n",
      "TTTCTAGCCATACACTACACATCAGACACAGTAACCGCTTTTTCATCAGTTACTCACATC\n",
      "TGTCGCGATGTTAATTACGGCTGAATCATCCGATACATACACGCCAATGGAGCTTCCATA\n",
      "TTCTTTATCTGCCTATACATGCACGTAGGACGAGAATATATTAC\n",
      "\n",
      ">African wild cat DNA\n",
      "CTTATCAAAATTATTAATCACTCATTCATCGATCTACCCGCCCCATCTAACATCTCAGCA\n",
      "TGATGAAACTTCGGCTCCCTTCTAGGAGTCTGCCTAATCTTACAAATCCTCACCGGCCTC\n",
      "TTTTTGGCCATACACTACACATCAGACACAATAACCGCCTTTTCATCAGTTACCCACATC\n",
      "TGTCGCGACGTTAATTATGGCTGAATCATCCGATATTTACACGCCAACGGAGCTTCTATA\n",
      "TTCTTTATCTGCCTGTACATACACGTAGGACGGGAATATACTAC\n",
      "\n",
      ">Felis Cat A DNA\n",
      "CTTACCAAAATTATTAATCACTCATTCATCGACCTACCTGCCCCATCTAACATCTCAGCA\n",
      "TGATGAAACTTCGGCTCCCTTCTAGGAGTCTGCCTAATCTTACAAATCCTCACCGGCCTC\n",
      "TTTTTGGCCATACACTACACATCAGACACAACAACCGCCTTTTCATCAGTTACCCACATC\n",
      "TGTCGCGACGTTAATTATGGCTGAATCATCCGATATTTACACGCCAACGGAGCTTCTATA\n",
      "TTCTTTATCTGCCTGTACATACATGTAGGACGGGAATATACTAC\n",
      "\n",
      ">Wild Cat DNA\n",
      "CTTATCAAAATTATTAATCACTCATTCATCGACCTACCCGCCCCATCTAACATCTCAGCA\n",
      "TGATGAAACTTCGGCTCCCTTCTAGGAGTCTGCCTAATCTTACAAATCCTCACCGGCCTC\n",
      "TTTTTGGCCATACACTACACATCAGACACAATAACCGCCTTTTCATCAGTTACCCACATC\n",
      "TGTCGCGACGTTAATTATGGCTGAATCATCCGATATTTACACGCCAACGGAGCTTCTATA\n",
      "TTCTTTATCTGCCTGTACATACATGTGGGACGGGAATATACTAC\n",
      "\n",
      ">Cheetah DNA\n",
      "CTTATCAAAATCGTTAATCACTCATTCATCGATTTACCCACCCCACCTAACATTTCAGCA\n",
      "TGATGAAACTTCGGCTCCCTACTAGGAGTCTGCCTAGTCCTACAGATCCTAACCGGCCTT\n",
      "TTCCTAGCCATACACTACACATCAGACACAATAACCGCCTTTTCATCAGTTACTCACATC\n",
      "TGCCGCGACGTCAACTACGGCTGAATTATTCGATACATGCACGCCAACGGAGCCTCTATA\n",
      "TTCTTTATCTGCCTATACATGCATGTAGGACGAGAATATACTAC\n",
      "\n",
      ">Puma DNA\n",
      "CTTATCAAAATCATTAATCACTCATTTATTGATTTACCCACCCCATCCAACATTTCAGCA\n",
      "TGATGAAACTTTGGCTCCCTACTAGGGGTCTGCCTAATCCTACAAATCCTAACCGGCCTC\n",
      "TTCCTGGCCATACACTATACATCAGACACAATGACTGCCTTTTCATCAGTCACTCACATC\n",
      "TGTCGTGACGTTAACTACGGCTGAATTATTCGGTACATACATGCCAACGGAGCCTCCATA\n",
      "TTCTTTATCTGCCTATACATGCACGTGGGACGAGAATATATTAT\n",
      "\n",
      ">Tiger DNA\n",
      "CTTATCAAAATTATTAATCACTCATTTATTGACCTACCCGCCCCATCCAATATTTCAGCA\n",
      "TGATGAAACTTTGGCTCCTTACTAGGGGTGTGCTTAATCTTACAAATCCTCACTGGCCTC\n",
      "TTTCTAGCCATACACTACACATCAGACACAATAACCGCATTCTCATCAGTTACCCACATT\n",
      "TGCCGCGACGTAAACTACGGCTGGATTATCCGATATCTACATGCCAACGGAGCCTCCATA\n",
      "TTCTTTATCTGTCTATACATGCACGTAGGACGAGAATATACTAC\n",
      "\n",
      ">Lion DNA\n",
      "CTTGTCAAAATTATTAATCACTCATTCATTGATCTTCCCACTCCACCCAATATCTCAGCA\n",
      "TGATGAAACTTTGGCTCCTTATTAGGAGTATGTTTAATCCTACAAATTCTCACCGGCCTC\n",
      "TTTCTAGCCATACATTACACACCAGACACAATAACCGCTTTCTCATCAGTCACCCACATT\n",
      "TGCCGCGATGTAAACTATGGCTGAATTATCCGGTACCTACACGCCAACGGAGCCTCCATA\n",
      "TTCTTTATCTGCCTATACATGCATGTAGGACGAGAATATACTAT\n",
      "\n",
      ">Leopard DNA\n",
      "CTCATCAAAATTATTAATCACTCATTCATTGATCTCCCCGCTCCATCCAACATCTCAACA\n",
      "TGATGGAACTTTGGCTCCCTATTAGGGGTATGTTTAATCCTACAAATTCTCACCGGCCTC\n",
      "TTTCTAGCCATACATTATACATCAGACACAACAACCGCTTTCTCATCAGTTACCCATATC\n",
      "TGCCGCGATGTAAATTATGGCTGAATTATCCGGTATCTACACGCCAATGGAGCCTCCATA\n",
      "TTCTTTATCTGCCTATACATACATGTAGGACGAGGATATACTAT\n",
      "\n",
      ">Dog DNA\n",
      "CTAGCCAAAATTGTTAATAACTCATTCATTGACCTCCCAGCGCCGTCTAACATCTCTGCT\n",
      "TGATGGAACTTCGGATCCTTACTAGGAGTATGCTTGATTCTACAGATTCTAACAGGTTTA\n",
      "TTCTTAGCTATGCACTATACATCGGACACAGCCACAGCTTTTTCATCAGTCACCCACATC\n",
      "TGCCGAGACGTTAACTACGGCTGAATTATCCGCTATATGCACGCAAATGGCGCTTCCATA\n",
      "TTCTTTATCTGCCTATTCCTACATGTAGGACGAGCCTATATTAC\n",
      "\n",
      ">Wolf DNA\n",
      "CTAGCCAAAATTGTTAATAACTCATTCATTGACCTCCCAGCGCCGTCTAACATCTCTGCT\n",
      "TGATGGAACTTCGGATCCTTACTAGGAGTATGCTTGATTCTACAGATTCTAACAGGTTTA\n",
      "TTCTTAGCTATGCACTATACATCGGACACAGCCACAGCTTTTTCATCAGTCACCCACATC\n",
      "TGCCGAGACGTTAACTACGGCTGAATTATCCGCTATATGCACGCAAATGGCGCTTCCATA\n",
      "TTCTTTATCTGCCTATTCCTACATGTAGGACGAGCCTATATTAC\n",
      "\n",
      ">Black Bear DNA\n",
      "TTAGCTAAAATCATCAACAACTCACTCATTGATCTCCCAGCACCATCAAATATCTCAGCA\n",
      "TGATGAAACTTCGGGTCCCTCCTCGGAGTATGTTTAGTACTACAAATTCTAACGGGCCTA\n",
      "TTCCTAGCTATACACTATACATCAGACACAACTACAGCCTTTTCATCAATCACCCATATT\n",
      "TGCCGAGATGTTCACTACGGATGAATTATCCGATACATACATGCTAACGGAGCTTCCATA\n",
      "TTCTTTATCTGCCTGTTCATGCACGTAGGACGGGTCTGTACTAT\n",
      "\n",
      ">Brown Bear DNA\n",
      "TTAGCTAAAATCATCAACAACTCATTTATTGACCTTCCAACACCATCAAACATCTCAGCA\n",
      "TGATGAAACTTTGGATCCCTCCTTGGAGTATGTTTAATTCTACAGATTCTAACAGGCCTG\n",
      "TTCCTAGCCATACACTATACACCAGACACAACCACAGCTTTTTCATCGGTCACCCACATT\n",
      "TGCCGAGACGTTCACTACGGGTGAGTTATCCGATATGTACATGCAAATGGAGCCTCCATC\n",
      "TTCTTTATCTGCCTATTTATGCACTAGGACGGGGCCTGTACTAT\n",
      "\n",
      ">Cave Bear DNA\n",
      "TTAGCTAAAATCATCAACAACTCATTTATTGACCTCCCAACACCATCAAACATCTCAGCA\n",
      "TGATGAAACTTTGGATCCCTCCTCGGAGTATGCTTAATTCTACAGATCCTAACAGGCCTG\n",
      "TTTCTAGCTATACACTACACATCAGACACAACCACAGCCTTTTCATCAATCACCCATATT\n",
      "TGCCGAGACGTTCACTACGGTTGAGTTATCCGATATATACATGCAAACGGAGCCTCCATA\n",
      "TTCTTTATCTGTCTATTCATGCACTAGGACGGGGCCTATACTAT\n",
      "\n"
     ]
    }
   ],
   "source": [
    "# À remplir\n",
    "file = open(\"msa_cat_dna.fasta\", \"r\")\n",
    "print(file.read())"
   ]
  },
  {
   "cell_type": "code",
   "execution_count": 2,
   "metadata": {},
   "outputs": [],
   "source": [
    "import pprint"
   ]
  },
  {
   "cell_type": "code",
   "execution_count": 3,
   "metadata": {},
   "outputs": [],
   "source": [
    "def dictionnaire(f):\n",
    "    with open(f) as file:\n",
    "        contents = file.read()\n",
    "        entries = contents.split('>')\n",
    "        entries.pop(0)\n",
    "        res = {}\n",
    "        for entry in entries:\n",
    "            ADN = ''\n",
    "            split = entry.split(\"\\n\")\n",
    "            for i in range(1,len(split)):\n",
    "                key = split[0]\n",
    "                ADN = ADN + split[i]\n",
    "            res[key] = ADN\n",
    "        return res"
   ]
  },
  {
   "cell_type": "code",
   "execution_count": 4,
   "metadata": {},
   "outputs": [],
   "source": [
    "data = dictionnaire(\"msa_cat_dna.fasta\")"
   ]
  },
  {
   "cell_type": "markdown",
   "metadata": {},
   "source": [
    "------\n",
    "## Alignement des séquences\n",
    "\n",
    "La méthode que vous utiliserez pour calculer l'arbre phylogénétique nécessite de calculer la distance évolutive entre les séquences. Avant de pouvoir les calculer, il faut d'abord aligner les séquences en considérant trois types de mutations :\n",
    "- les substitutions (un nucléotide est remplacé par un autre)\n",
    "- les insertions\n",
    "- les délétions\n",
    "Par exemple, les séquences \"ACTCCTGA\" et \"ATCTCGTGA\" ont plusieurs alignements possibles : \n",
    "\n",
    "$A_1$ :\n",
    "```\n",
    "-ACTCCTGA\n",
    "ATCTCGTGA\n",
    "```\n",
    "\n",
    "$A_2$ :\n",
    "```\n",
    "A-CTCCTGA\n",
    "ATCTCGTGA\n",
    "```\n",
    "\n",
    "$A_3$ :\n",
    "```\n",
    "AC-TCCTGA\n",
    "ATCTCGTGA\n",
    "```\n",
    ".\n",
    "\n",
    ".\n",
    "\n",
    ".\n",
    "\n",
    "Il est aussi possible qu'une délétion ne soit pas une mutation, mais en réalité dû à un mauvais séquençage ou à la dégradation ADN comme c'est souvent le cas pour le séquençage d'ADN d'espèces disparues. \n",
    "\n",
    "Le \"-\" désigne un *gap*, c'est à dire un \"trou\" dans l'alignement qui a été causé par une insertion ou une déletion. On regroupe ces deux types de mutations sous le terme indel.\n",
    "\n",
    "Ces alignements correspondent à une multitude d'histoires phylogénétiques différentes. Pour sélectionner le meilleur alignement il faut donc introduire l'hypothèse du maximum de parcimonie qui privilégie l'histoire phylogénétique qui implique le moins d'hypothèses et donc, le moins de changements évolutifs. Par exemple, parmis les trois alignements ci-dessus on preferera l'alignement 2 car il correspond au scénario avec le moins de mutations:\n",
    "- l'alignement 1 implique au minimum 1 indel et 2 substitutions\n",
    "- l'alignement 2 implique au minimum 1 indel et 1 substitutions\n",
    "- l'alignement 3 implique au minimum 1 indel et 2 substitutions\n",
    "\n",
    "On peut maintenant définir un score d'identité que l'on va augmenter de 1 lorsque qu'il n'y pas eu de mutation et ainsi obtenir la matrice suivante :\n",
    "\n",
    "|   &nbsp;   | A | C | G | T | - |\n",
    "|   -   | - | - | - | - | - |\n",
    "| **A** | 1 | 0 | 0 | 0 | 0 |\n",
    "| **C** | 0 | 1 | 0 | 0 | 0 |\n",
    "| **G** | 0 | 0 | 1 | 0 | 0 |\n",
    "| **T** | 0 | 0 | 0 | 1 | 0 |\n",
    "| **-** | 0 | 0 | 0 | 0 | 0 |\n",
    "\n",
    "Cette matrice correspond au modèle d'évolution de l'ADN défini par Jukes et Cantor qui fait l'hypothèse d'un taux de mutation équivalent pour chacun des nucléotides. Cependant, en réalité ces taux ne sont pas les mêmes partout, on sait par exemple que le taux de transition (substitution A$\\leftrightarrow$G ou C$\\leftrightarrow$T) est différent du taux de transversions (substitution A$\\leftrightarrow$T, C$\\leftrightarrow$G, C$\\leftrightarrow$A ou G$\\leftrightarrow$T) et que d'autres facteurs devrait être pris en compte comme la fréquence du nucléotide dans l'ADN. [C'est pour cette raison qu'il existe beaucoup de modèles différents d'écrivant l'évolution de l'ADN.](https://en.wikipedia.org/wiki/Models_of_DNA_evolution) Dans la suite de ce projet nous utiliserons la matrice de similarité $S$ suivante : \n",
    "\n",
    "|   &nbsp;   | A  | C  | G  | T  | -  |\n",
    "|   -   | -  | -  | -  | -  | -  |\n",
    "| **A** | 10 | -1 | -3 | -4 | -5 |\n",
    "| **C** | -1 | 7  | -5 | -3 | -5 |\n",
    "| **G** | -3 | -5 | 9  | 0  | -5 |\n",
    "| **T** | -4 | -3 | 0  | 8  | -5 |\n",
    "| **-** | -5 | -5 | -5 | -5 | 0  |\n",
    "\n",
    "**Exercice 2 :** Écriver la fonction permettant de calculer le score entre deux séquences avec la matrice de similarité précédente puis afficher le score des trois alignements $A_1$, $A_2$ et $A_3$. La classe permettant d'importer une matrice et de calculer le score entre deux lettres vous est déjà fournie, la matrice de similarité est stockée dans le fichier `dna_matrix` :\n"
   ]
  },
  {
   "cell_type": "code",
   "execution_count": 5,
   "metadata": {},
   "outputs": [
    {
     "name": "stdout",
     "output_type": "stream",
     "text": [
      "Score between G and C: -5.0\n",
      "Score between A and a gap: -5.0\n"
     ]
    }
   ],
   "source": [
    "import numpy as np\n",
    "\n",
    "\n",
    "class SimilarityMatrix:\n",
    "    def __init__(self, filename):\n",
    "        with open(filename) as f:\n",
    "            self.letters = f.readline().split()\n",
    "            self.values = np.loadtxt(filename, skiprows=1, usecols=range(1, len(self.letters) + 1))\n",
    "        \n",
    "    def score(self, letter1, letter2): # return the similarity score between letter1 and letter2\n",
    "        return self.values[self.letters.index(letter1)][self.letters.index(letter2)]\n",
    "    \n",
    "# Example\n",
    "similarity_matrix = SimilarityMatrix('dna_matrix')\n",
    "print('Score between G and C:', similarity_matrix.score('G', 'C'))\n",
    "print('Score between A and a gap:', similarity_matrix.score('-', 'A'))"
   ]
  },
  {
   "cell_type": "code",
   "execution_count": 6,
   "metadata": {},
   "outputs": [],
   "source": [
    "# À remplir\n",
    "def alignement(a,b):\n",
    "    score = [0,0,0]\n",
    "    for j in range(3):\n",
    "        s = a\n",
    "        s = s[:j] + \"-\" + s[j:]\n",
    "        print(len(s))\n",
    "        for i in range(len(s)):\n",
    "            score[j] = score[j] + similarity_matrix.score(s[i], b[i])\n",
    "    return score"
   ]
  },
  {
   "cell_type": "code",
   "execution_count": 7,
   "metadata": {},
   "outputs": [
    {
     "name": "stdout",
     "output_type": "stream",
     "text": [
      "9\n",
      "9\n",
      "9\n"
     ]
    },
    {
     "data": {
      "text/plain": [
       "[35.0, 49.0, 39.0]"
      ]
     },
     "execution_count": 7,
     "metadata": {},
     "output_type": "execute_result"
    }
   ],
   "source": [
    "alignement(\"ACTCCTGA\",\"ATCTCGTGA\")"
   ]
  },
  {
   "cell_type": "markdown",
   "metadata": {},
   "source": [
    "------\n",
    "### Algorithme de Needleman-Wunsch\n",
    "\n",
    "Maintenant que vous avez vu ce qu'est une matrice de similarité et comment calculer le score de similarité d'un alignement, vous allez devoir implémenter un algorithme permettant de trouver le meilleur alignement global entre deux séquences. Avec deux séquences à aligner de taille $n$ et $m$, la première étape consiste à initialiser deux matrices de taille $(n+1) \\times (m+1)$. La première est la matrice de score $M$ et la seconde sera la matrice de *traceback* $T$. \n",
    "\n",
    "Par exemple, avec la matrice $S$ et les séquences $A =$ \"ACTCCTGA\" et $B =$ \"ATCTCGTGA\", on initialise $M$ comme si l'on ajoutait des *gaps* partout :\n",
    "\n",
    "|   &nbsp;   | - | A | T | C | T | C | G | T | G | A |\n",
    "|   -   | - | - | - | - | - | - | - | - | - | - |\n",
    "| **-** | 0 |-5 |-10|-15|-20|-25|-30|-35|-40|-45|\n",
    "| **A** |-5 | &nbsp; | &nbsp; | &nbsp; | &nbsp; | &nbsp; | &nbsp; | &nbsp; | &nbsp; | &nbsp; |\n",
    "| **C** |-10| &nbsp; | &nbsp; | &nbsp; | &nbsp; | &nbsp; | &nbsp; | &nbsp; | &nbsp; | &nbsp; |\n",
    "| **T** |-15| &nbsp; | &nbsp; | &nbsp; | &nbsp; | &nbsp; | &nbsp; | &nbsp; | &nbsp; | &nbsp; |\n",
    "| **C** |-20| &nbsp; | &nbsp; | &nbsp; | &nbsp; | &nbsp; | &nbsp; | &nbsp; | &nbsp; | &nbsp; |\n",
    "| **C** |-25| &nbsp; | &nbsp; | &nbsp; | &nbsp; | &nbsp; | &nbsp; | &nbsp; | &nbsp; | &nbsp; |\n",
    "| **T** |-30| &nbsp; | &nbsp; | &nbsp; | &nbsp; | &nbsp; | &nbsp; | &nbsp; | &nbsp; | &nbsp; |\n",
    "| **G** |-45| &nbsp; | &nbsp; | &nbsp; | &nbsp; | &nbsp; | &nbsp; | &nbsp; | &nbsp; | &nbsp; |\n",
    "| **A** |-40| &nbsp; | &nbsp; | &nbsp; | &nbsp; | &nbsp; | &nbsp; | &nbsp; | &nbsp; | &nbsp; ||\n",
    "\n",
    "Puis on initialise $T$ :\n",
    "\n",
    "|   &nbsp;   | - | A | T | C | T | C | G | T | G | A |\n",
    "|   -   | - | - | - | - | - | - | - | - | - | - |\n",
    "| **-** | o | l | l | l | l | l | l | l | l | l |\n",
    "| **A** | u | &nbsp; | &nbsp; | &nbsp; | &nbsp; | &nbsp; | &nbsp; | &nbsp; | &nbsp; | &nbsp; |\n",
    "| **C** | u | &nbsp; | &nbsp; | &nbsp; | &nbsp; | &nbsp; | &nbsp; | &nbsp; | &nbsp; | &nbsp; |\n",
    "| **T** | u | &nbsp; | &nbsp; | &nbsp; | &nbsp; | &nbsp; | &nbsp; | &nbsp; | &nbsp; | &nbsp; |\n",
    "| **C** | u | &nbsp; | &nbsp; | &nbsp; | &nbsp; | &nbsp; | &nbsp; | &nbsp; | &nbsp; | &nbsp; |\n",
    "| **C** | u | &nbsp; | &nbsp; | &nbsp; | &nbsp; | &nbsp; | &nbsp; | &nbsp; | &nbsp; | &nbsp; |\n",
    "| **T** | u | &nbsp; | &nbsp; | &nbsp; | &nbsp; | &nbsp; | &nbsp; | &nbsp; | &nbsp; | &nbsp; |\n",
    "| **G** | u | &nbsp; | &nbsp; | &nbsp; | &nbsp; | &nbsp; | &nbsp; | &nbsp; | &nbsp; | &nbsp; |\n",
    "| **A** | u | &nbsp; | &nbsp; | &nbsp; | &nbsp; | &nbsp; | &nbsp; | &nbsp; | &nbsp; | &nbsp; ||\n",
    "\n",
    "\n",
    "Il faut ensuite remplir la matrice $M$ en suivant la formule $M_{ij} = \\max(M_{i-1j-1} + s(A_i, B_j), M_{ij-1} + s(A_i, gap), M_{i-1j} + s(B_j,gap) )$ avec $i \\in {2, \\dots, n+1}$, $j \\in {2, \\dots, m+1}$ et la fonction $s$ qui calcule le score de similarité entre deux nucléotides. Pour chaque case de $T$ on remplie par :\n",
    "- 'd' (*diagonal*) si $M_{ij}$ a été calculé en utilisant la diagonale $M_{i-1j-1}$,\n",
    "- 'l' (*left*) si $M_{ij}$ a été calculé en utilisant la case de gauche $M_{ij-1}$,\n",
    "- 'u' (*up*) si $M_{ij}$ a été calculé en utilisant la case du haut $M_{i-1j}$.\n",
    "\n",
    "On obtient alors les matrices suivantes $M$ et $T$ : \n",
    "\n",
    "|   &nbsp;   | - | A | T | C | T | C | G | T | G | A |\n",
    "|   -   | - | - | - | - | - | - | - | - | - | - |\n",
    "| **-** |  0| -5|-10|-15|-20|-25|-30|-35|-40|-45|\n",
    "| **A** | -5| 10|  5|  0| -5|-10|-15|-20|-25|-30|\n",
    "| **C** |-10|  5|  7| 12|  7|  2| -3| -8|-13|-18|\n",
    "| **T** |-15|  0| 13|  8| 20| 15| 10|  5|  0| -5|\n",
    "| **C** |-20| -5|  8| 20| 15| 27| 22| 17| 12|  7|\n",
    "| **C** |-25|-10|  3| 15| 17| 22| 22| 19| 14| 11|\n",
    "| **T** |-30|-15| -2| 10| 23| 18| 22| 30| 25| 20|\n",
    "| **G** |-35|-20| -7|  5| 18| 18| 27| 25| 39| 34|\n",
    "| **A** |-40|-25|-12|  0| 13| 17| 22| 23| 34| 49|\n",
    "\n",
    "|   &nbsp;   | - | A | T | C | T | C | G | T | G | A |\n",
    "|   -   | - | - | - | - | - | - | - | - | - | - |\n",
    "| **-** | o | l | l | l | l | l | l | l | l | l |\n",
    "| **A** | u | d | l | l | l | l | l | l | l | d |\n",
    "| **C** | u | u | d | d | l | d | l | l | l | l |\n",
    "| **T** | u | u | d | l | d | l | l | d | l | l |\n",
    "| **C** | u | u | u | d | l | d | l | l | l | l |\n",
    "| **C** | u | u | u | d | d | d | d | d | l | d |\n",
    "| **T** | u | u | d | u | d | l | d | d | l | l |\n",
    "| **G** | u | u | u | u | u | d | d | u | d | l |\n",
    "| **A** | u | d | u | u | u | d | u | d | u | d |\n",
    "\n",
    "Il suffit maintenant de regarder le dernier élément $M_{nm} = 49$ pour avoir le score de l'alignement. Pour avoir l'alignement lui-même, il faut partir de $T_{nm}$ et remonter la \"trace\" jusqu'à arriver au 'o'. Un 'd' correspond à un *match* entre les deux séquences, 'l' à un *gap* dans la séquence $A$ et 'u' à un *gap* dans la séquence $B$. En revenant à l'exemple précédent on obtient la trace suivante :\n",
    "\n",
    "|   &nbsp;   | - | A | T | C | T | C | G | T | G | A |\n",
    "|   -   | - | - | - | - | - | - | - | - | - | - |\n",
    "| **-** | o | &nbsp; | &nbsp; | &nbsp; | &nbsp; | &nbsp; | &nbsp; | &nbsp; | &nbsp; | &nbsp; |\n",
    "| **A** | &nbsp; | d | l | &nbsp; | &nbsp; | &nbsp; | &nbsp; | &nbsp; | &nbsp; | &nbsp; |\n",
    "| **C** | &nbsp; | &nbsp; | &nbsp; | d | &nbsp; | &nbsp; | &nbsp; | &nbsp; | &nbsp; | &nbsp; |\n",
    "| **T** | &nbsp; | &nbsp; | &nbsp; | &nbsp; | d | &nbsp; | &nbsp; | &nbsp; | &nbsp; | &nbsp; |\n",
    "| **C** | &nbsp; | &nbsp; | &nbsp; | &nbsp; | &nbsp; | d | &nbsp; | &nbsp; | &nbsp; | &nbsp; |\n",
    "| **C** | &nbsp; | &nbsp; | &nbsp; | &nbsp; | &nbsp; | &nbsp; | d | &nbsp; | &nbsp; | &nbsp; |\n",
    "| **T** | &nbsp; | &nbsp; | &nbsp; | &nbsp; | &nbsp; | &nbsp; | &nbsp; | d | &nbsp; | &nbsp; |\n",
    "| **G** | &nbsp; | &nbsp; | &nbsp; | &nbsp; | &nbsp; | &nbsp; | &nbsp; | &nbsp; | d | &nbsp; |\n",
    "| **A** | &nbsp; | &nbsp; | &nbsp; | &nbsp; | &nbsp; | &nbsp; | &nbsp; | &nbsp; | &nbsp; | d |\n",
    "\n",
    "Elle correspond à l'alignement :\n",
    "```\n",
    "A-CTCCTGA\n",
    "ATCTCGTGA\n",
    "```\n",
    "\n",
    "**Exercice 3 :** Implémenter l'algorithme de Needlman et Wunsch. Il prendra en paramètre deux séquences et une matrice de similarité et retournera leur alignement. Tester le avec les séquences \"ACTCCTGA\" et \"ATCTCGTGA\"."
   ]
  },
  {
   "cell_type": "code",
   "execution_count": 8,
   "metadata": {},
   "outputs": [],
   "source": [
    "# À remplir\n",
    "def initMT(a,b,s):\n",
    "    \n",
    "    M = np.zeros((len(a),len(b)))\n",
    "    T = np.full((len(a),len(b)), '')\n",
    "    T[0,0] = 'o'\n",
    "    M[0,0] = 0\n",
    "    for i in range(1,len(a)):\n",
    "        M[i,0] = M[i-1,0] + s.score(a[i], '-')\n",
    "        T[i,0] = 'u'\n",
    "    for j in range(1,len(b)):\n",
    "        M[0,j] = M[0,j-1] + s.score(b[j], '-')\n",
    "        T[0,j] = 'l'\n",
    "    return M,T"
   ]
  },
  {
   "cell_type": "code",
   "execution_count": 9,
   "metadata": {},
   "outputs": [],
   "source": [
    "def maxT(a,b,c):\n",
    "    res = max(a,b,c)\n",
    "    if res == a:\n",
    "        return 'd'\n",
    "    elif res == b:\n",
    "        return 'l'\n",
    "    else:\n",
    "        return 'u'"
   ]
  },
  {
   "cell_type": "code",
   "execution_count": 10,
   "metadata": {},
   "outputs": [],
   "source": [
    "def Needlman(a,b,s):\n",
    "    x = '-' + a\n",
    "    y = '-' + b\n",
    "    M,T = initMT(x,y,s)\n",
    "    for i in range(1,len(x)):\n",
    "        for j in range(1,len(y)):\n",
    "            M[i,j] = max(M[i-1,j-1] + s.score(x[i],y[j]), M[i,j-1] + s.score(x[i],'-'), M[i-1,j] + s.score('-',y[j]) )\n",
    "            T[i,j] = maxT(M[i-1,j-1] + s.score(x[i],y[j]), M[i,j-1] + s.score(x[i],'-'), M[i-1,j] + s.score('-',y[j]) )\n",
    "    i = np.shape(M)[0]-1\n",
    "    j = np.shape(M)[1]-1\n",
    "    resA = ''\n",
    "    resB = ''\n",
    "    while (T[i][j] != 'o'):\n",
    "        if T[i][j] == 'd':\n",
    "            resA = x[i] + resA\n",
    "            resB = y[j] + resB\n",
    "            i -= 1\n",
    "            j -= 1\n",
    "        elif T[i][j] == 'l':\n",
    "            resA = '-' + resA\n",
    "            resB = y[j] + resB\n",
    "            j -= 1\n",
    "        else:\n",
    "            resA = x[i] + resA\n",
    "            resB = '-' + resB\n",
    "            i -=1\n",
    "    return resA,resB"
   ]
  },
  {
   "cell_type": "code",
   "execution_count": 11,
   "metadata": {},
   "outputs": [
    {
     "data": {
      "text/plain": [
       "('A-CTCCTGA', 'ATCTCGTGA')"
      ]
     },
     "execution_count": 11,
     "metadata": {},
     "output_type": "execute_result"
    }
   ],
   "source": [
    "x,y = Needlman(\"ACTCCTGA\",\"ATCTCGTGA\",similarity_matrix)\n",
    "x,y"
   ]
  },
  {
   "cell_type": "code",
   "execution_count": 12,
   "metadata": {},
   "outputs": [],
   "source": [
    "import sys\n",
    "np.set_printoptions(threshold=sys.maxsize)"
   ]
  },
  {
   "cell_type": "markdown",
   "metadata": {},
   "source": [
    "**Exercice 4 :** Appliquer votre algorithme aux données. Vous remarquerez que Needlman et Wunsch permet d'aligner deux séquences entre elles, or vous devez aligner toute les séquences en même temps. Adapter l'algorithme en faisant au plus simple, seulement les séquences d'ADN anciens ont une longueur différente des autres."
   ]
  },
  {
   "cell_type": "code",
   "execution_count": 13,
   "metadata": {},
   "outputs": [],
   "source": [
    "# À remplir\n",
    "def allNeedlman(dico):\n",
    "    ancienADN = {}\n",
    "    ADN = {}\n",
    "    maxSeq = max(dico, key=dico.get)\n",
    "    maxLength = len(dico[maxSeq])\n",
    "    for nom, seq in dico.items():\n",
    "        if len(seq) < maxLength:\n",
    "            ancienADN[nom] = seq\n",
    "        else:\n",
    "            ADN[nom] = seq\n",
    "\n",
    "    for nom, seq in ancienADN.items():\n",
    "        x,y = Needlman(seq,dico[maxSeq]  ,similarity_matrix)\n",
    "        ADN[nom] = x\n",
    "    return ADN"
   ]
  },
  {
   "cell_type": "code",
   "execution_count": 14,
   "metadata": {},
   "outputs": [
    {
     "data": {
      "text/plain": [
       "284"
      ]
     },
     "execution_count": 14,
     "metadata": {},
     "output_type": "execute_result"
    }
   ],
   "source": [
    "maxSeq = max(data, key=data.get)\n",
    "len(data[maxSeq])"
   ]
  },
  {
   "cell_type": "code",
   "execution_count": 15,
   "metadata": {},
   "outputs": [
    {
     "name": "stdout",
     "output_type": "stream",
     "text": [
      "284\n",
      "284\n",
      "284\n",
      "284\n",
      "284\n",
      "284\n",
      "284\n",
      "284\n",
      "284\n",
      "284\n",
      "284\n",
      "284\n",
      "284\n",
      "284\n",
      "284\n",
      "284\n",
      "284\n",
      "284\n",
      "284\n"
     ]
    }
   ],
   "source": [
    "P = allNeedlman(data)\n",
    "for nom, seq in P.items():\n",
    "        print(len(seq))"
   ]
  },
  {
   "cell_type": "markdown",
   "metadata": {},
   "source": [
    "----\n",
    "## Matrice de distance\n",
    "\n",
    "Dans le cas de séquences très proches, on estime que la distance évolutive réelle entre les séquences est proche de la p-distance qui est simplement le nombre de substitution dans l'alignement sur le nombre total de nucléotide. Pour simplifier, **on ignore les positions alignées à des gaps**. On applique ensuite la correction de Jukes-Cantor afin de prendre en compte le phénomène de saturation (un même site peut muter plusieurs fois au cours du temps). Sa formule est $-(\\frac{3}{4})\\ln(1-(\\frac{4}{3})\\times \\textit{p-distance})$.\n",
    "\n",
    "**Exercice 5 :** Implémenter la fonction retournant la matrice de distance à partir d'un dictionnaire de séquences. "
   ]
  },
  {
   "cell_type": "code",
   "execution_count": 16,
   "metadata": {},
   "outputs": [],
   "source": [
    "def pDistance(a,b):\n",
    "    res = 0\n",
    "    for i in range(len(a)):\n",
    "        if a[i] != b[i] and a[i] != '-' and b[i] != '-':\n",
    "            res+=1\n",
    "        \n",
    "    return res/len(a)"
   ]
  },
  {
   "cell_type": "code",
   "execution_count": 17,
   "metadata": {},
   "outputs": [
    {
     "data": {
      "text/plain": [
       "19"
      ]
     },
     "execution_count": 17,
     "metadata": {},
     "output_type": "execute_result"
    }
   ],
   "source": [
    "dicoAligned = allNeedlman(data)\n",
    "M = np.zeros((len(dicoAligned),len(dicoAligned)))\n",
    "np.shape(M)[1]"
   ]
  },
  {
   "cell_type": "code",
   "execution_count": 18,
   "metadata": {},
   "outputs": [],
   "source": [
    "# À remplir\n",
    "def distance(dico):\n",
    "    #dicoAligned = allNeedlman(dico)\n",
    "    M = np.zeros((len(dicoAligned),len(dicoAligned)))\n",
    "    A = []\n",
    "    B = []\n",
    "    for nom, seq in dicoAligned.items():\n",
    "        B.append(seq)\n",
    "        A.append(seq)\n",
    "    for i in range(np.shape(M)[0]):\n",
    "        for j in range(np.shape(M)[1]):\n",
    "            M[i][j] = (-(3/4)) * np.log(1 - (4/3) * pDistance(A[i],B[j]))\n",
    "    return M"
   ]
  },
  {
   "cell_type": "code",
   "execution_count": 19,
   "metadata": {},
   "outputs": [
    {
     "data": {
      "text/plain": [
       "array([[-0.        ,  0.17799614,  0.16472146,  0.14737964,  0.1960693 ,\n",
       "         0.13885682,  0.1691203 ,  0.17354509,  0.17354509,  0.17354509,\n",
       "         0.19151002,  0.14310613,  0.15167765,  0.14737964,  0.25305873,\n",
       "         0.25305873,  0.24325467,  0.26800939,  0.26800939],\n",
       "       [ 0.17799614, -0.        ,  0.21458876,  0.1960693 ,  0.23357712,\n",
       "         0.21458876,  0.24325467,  0.22878477,  0.23840029,  0.23357712,\n",
       "         0.23840029,  0.22878477,  0.25800925,  0.23840029,  0.28841882,\n",
       "         0.28841882,  0.29360915,  0.29360915,  0.25800925],\n",
       "       [ 0.16472146,  0.21458876, -0.        ,  0.18697828,  0.17799614,\n",
       "         0.10165912,  0.10976731,  0.13042977,  0.12209635,  0.08965886,\n",
       "         0.06621946,  0.12625149,  0.15600043,  0.15600043,  0.25800925,\n",
       "         0.25800925,  0.24814068,  0.28326416,  0.24814068],\n",
       "       [ 0.14737964,  0.1960693 ,  0.18697828, -0.        ,  0.13463146,\n",
       "         0.14737964,  0.18697828,  0.18247376,  0.17799614,  0.19151002,\n",
       "         0.21458876,  0.17799614,  0.20065647,  0.20065647,  0.25305873,\n",
       "         0.25305873,  0.25305873,  0.27814468,  0.24325467],\n",
       "       [ 0.1960693 ,  0.23357712,  0.17799614,  0.13463146, -0.        ,\n",
       "         0.1691203 ,  0.17799614,  0.19151002,  0.18697828,  0.16472146,\n",
       "         0.21929097,  0.20991585,  0.21458876,  0.21458876,  0.26299265,\n",
       "         0.26299265,  0.25305873,  0.26299265,  0.24325467],\n",
       "       [ 0.13885682,  0.21458876,  0.10165912,  0.14737964,  0.1691203 ,\n",
       "        -0.        ,  0.10570226,  0.11796411,  0.10976731,  0.13042977,\n",
       "         0.13042977,  0.13885682,  0.14310613,  0.15167765,  0.25305873,\n",
       "         0.25305873,  0.23840029,  0.27305992,  0.26299265],\n",
       "       [ 0.1691203 ,  0.24325467,  0.10976731,  0.18697828,  0.17799614,\n",
       "         0.10570226, -0.        ,  0.01781556,  0.01063848,  0.11385451,\n",
       "         0.13885682,  0.12209635,  0.15600043,  0.14737964,  0.25305873,\n",
       "         0.25305873,  0.24814068,  0.30939921,  0.27305992],\n",
       "       [ 0.17354509,  0.22878477,  0.13042977,  0.18247376,  0.19151002,\n",
       "         0.11796411,  0.01781556, -0.        ,  0.01421844,  0.12625149,\n",
       "         0.16034827,  0.13463146,  0.1691203 ,  0.15167765,  0.23357712,\n",
       "         0.23357712,  0.24814068,  0.29883565,  0.26299265],\n",
       "       [ 0.17354509,  0.23840029,  0.12209635,  0.17799614,  0.18697828,\n",
       "         0.10976731,  0.01063848,  0.01421844, -0.        ,  0.11796411,\n",
       "         0.14310613,  0.12625149,  0.16034827,  0.15167765,  0.24814068,\n",
       "         0.24814068,  0.26299265,  0.30409883,  0.26800939],\n",
       "       [ 0.17354509,  0.23357712,  0.08965886,  0.19151002,  0.16472146,\n",
       "         0.13042977,  0.11385451,  0.12625149,  0.11796411, -0.        ,\n",
       "         0.09763766,  0.13885682,  0.14737964,  0.18247376,  0.23840029,\n",
       "         0.23840029,  0.24814068,  0.29360915,  0.26299265],\n",
       "       [ 0.19151002,  0.23840029,  0.06621946,  0.21458876,  0.21929097,\n",
       "         0.13042977,  0.13885682,  0.16034827,  0.14310613,  0.09763766,\n",
       "        -0.        ,  0.12625149,  0.15167765,  0.1691203 ,  0.26299265,\n",
       "         0.26299265,  0.23357712,  0.24814068,  0.22878477],\n",
       "       [ 0.14310613,  0.22878477,  0.12625149,  0.17799614,  0.20991585,\n",
       "         0.13885682,  0.12209635,  0.13463146,  0.12625149,  0.13885682,\n",
       "         0.12625149, -0.        ,  0.10570226,  0.13042977,  0.26299265,\n",
       "         0.26299265,  0.25305873,  0.26800939,  0.22878477],\n",
       "       [ 0.15167765,  0.25800925,  0.15600043,  0.20065647,  0.21458876,\n",
       "         0.14310613,  0.15600043,  0.1691203 ,  0.16034827,  0.14737964,\n",
       "         0.15167765,  0.10570226, -0.        ,  0.0778476 ,  0.25305873,\n",
       "         0.25305873,  0.22402285,  0.24814068,  0.25800925],\n",
       "       [ 0.14737964,  0.23840029,  0.15600043,  0.20065647,  0.21458876,\n",
       "         0.15167765,  0.14737964,  0.15167765,  0.15167765,  0.18247376,\n",
       "         0.1691203 ,  0.13042977,  0.0778476 , -0.        ,  0.22878477,\n",
       "         0.22878477,  0.23840029,  0.27305992,  0.27305992],\n",
       "       [ 0.25305873,  0.28841882,  0.25800925,  0.25305873,  0.26299265,\n",
       "         0.25305873,  0.25305873,  0.23357712,  0.24814068,  0.23840029,\n",
       "         0.26299265,  0.26299265,  0.25305873,  0.22878477, -0.        ,\n",
       "        -0.        ,  0.22402285,  0.22878477,  0.22402285],\n",
       "       [ 0.25305873,  0.28841882,  0.25800925,  0.25305873,  0.26299265,\n",
       "         0.25305873,  0.25305873,  0.23357712,  0.24814068,  0.23840029,\n",
       "         0.26299265,  0.26299265,  0.25305873,  0.22878477, -0.        ,\n",
       "        -0.        ,  0.22402285,  0.22878477,  0.22402285],\n",
       "       [ 0.24325467,  0.29360915,  0.24814068,  0.25305873,  0.25305873,\n",
       "         0.23840029,  0.24814068,  0.24814068,  0.26299265,  0.24814068,\n",
       "         0.23357712,  0.25305873,  0.22402285,  0.23840029,  0.22402285,\n",
       "         0.22402285, -0.        ,  0.15167765,  0.12625149],\n",
       "       [ 0.26800939,  0.29360915,  0.28326416,  0.27814468,  0.26299265,\n",
       "         0.27305992,  0.30939921,  0.29883565,  0.30409883,  0.29360915,\n",
       "         0.24814068,  0.26800939,  0.24814068,  0.27305992,  0.22878477,\n",
       "         0.22878477,  0.15167765, -0.        ,  0.0700755 ],\n",
       "       [ 0.26800939,  0.25800925,  0.24814068,  0.24325467,  0.24325467,\n",
       "         0.26299265,  0.27305992,  0.26299265,  0.26800939,  0.26299265,\n",
       "         0.22878477,  0.22878477,  0.25800925,  0.27305992,  0.22402285,\n",
       "         0.22402285,  0.12625149,  0.0700755 , -0.        ]])"
      ]
     },
     "execution_count": 19,
     "metadata": {},
     "output_type": "execute_result"
    }
   ],
   "source": [
    "D = distance(data)\n",
    "D"
   ]
  },
  {
   "cell_type": "code",
   "execution_count": 20,
   "metadata": {},
   "outputs": [
    {
     "data": {
      "text/plain": [
       "0.09090909090909091"
      ]
     },
     "execution_count": 20,
     "metadata": {},
     "output_type": "execute_result"
    }
   ],
   "source": [
    "pDistance('A---CTCCTGA', \n",
    "          'ATG-CTCGTGA')"
   ]
  },
  {
   "cell_type": "markdown",
   "metadata": {},
   "source": [
    "------\n",
    "## Construction d'un arbre avec UPGMA\n",
    "\n",
    "Grâce aux mesures de distances entre les séquences, on peut maintenant de construire l'arbre phylogénétique de la protéine cytochrome b. Vous allez devoir pour cela implémenter l'algorithme UPGMA (*unweighted pair group method with arithmetic mean*) qui, malgré son nom compliqué, est l'une des méthodes les plus simples pour la construction d'arbre.\n",
    "\n",
    "### Le format Newick\n",
    "\n",
    "Le format Newick est l'un des formats utilisé en phylogénie pour représenter un arbre sous la forme d'une chaine de caractère. Le principe est simple, les groupes ayant la même racine sont écrit entre parenthèses et séparés par des virgules. Un groupe peut être soit une feuille de l'arbre (dans notre cas une séquence), soit un autre groupe. La longueur de la branche de chaque groupe est écrite après un double point et l'arbre est terminé par un point virgule. Pour afficher l'arbre on peut utiliser les fonction du package ETE : "
   ]
  },
  {
   "cell_type": "code",
   "execution_count": 21,
   "metadata": {},
   "outputs": [
    {
     "data": {
      "image/png": "[encoded data removed]",
      "text/plain": [
       "<IPython.core.display.Image object>"
      ]
     },
     "execution_count": 21,
     "metadata": {},
     "output_type": "execute_result"
    }
   ],
   "source": [
    "from ete3 import Tree, TreeStyle\n",
    "\n",
    "newick_tree = '((A:2,(B:2,C:3):5):5,D:4);'\n",
    "t = Tree(newick_tree)\n",
    "ts = TreeStyle()\n",
    "ts.show_branch_length = True\n",
    "t.render('%%inline', w=183, units='mm', tree_style=ts)"
   ]
  },
  {
   "cell_type": "markdown",
   "metadata": {},
   "source": [
    "**Exercice 6 :** Reécriver l'arbre suivant au format Newick puis afficher-le. Les nombres correspondent aux longueurs des branches :\n",
    "![](tree.png)"
   ]
  },
  {
   "cell_type": "code",
   "execution_count": 22,
   "metadata": {},
   "outputs": [
    {
     "data": {
      "image/png": "[encoded data removed]",
      "text/plain": [
       "<IPython.core.display.Image object>"
      ]
     },
     "execution_count": 22,
     "metadata": {},
     "output_type": "execute_result"
    }
   ],
   "source": [
    "# À remplir\n",
    "tree = '((A:10,B:8,C:7):5,(D:9,(E:5,F:5):2):2);'\n",
    "t = Tree(tree)\n",
    "ts = TreeStyle()\n",
    "ts.show_branch_length = True\n",
    "t.render('%%inline', w=183, units='mm', tree_style=ts)"
   ]
  },
  {
   "cell_type": "markdown",
   "metadata": {},
   "source": [
    "**Exercice 7 :** Expliquer la relation de parenté entre $A$, $B$ et $C$ ? Qu'elles sont les hypothèses qui pourraient expliquer ce type d'embranchement dans un arbre ? Donner une réponse détaillée."
   ]
  },
  {
   "cell_type": "markdown",
   "metadata": {},
   "source": [
    "Réponse : \n",
    "\n",
    "les  UTOs A, B et C viennent d'un même ancêtre commun dont la longueur de la branche à la racine est de 5.\n",
    "Ils sont apparentés de manière égale à leur ancêtre commun.\n",
    "Mais, comme d_AB=18, d_AC=17,  A est plus similaire à C qu'à B et C est le plus similaire à leur ancêtre commun\n",
    "\n",
    "L'apparition de nouvelles espèces filles à partir d'une espèce mère peut etre causée par une isolation géographique dûes à des événements métérologiques soudains par exemple, ce qui cause l'évolution séparées de ces espèces. Cette apparition de nouvelles espèces peut aussi etre dûes à une mutation soudaine au sein de la population, ce qui les isolent sexuellement et les forcent à évoluer séparement.\n",
    "\n",
    "On peut supposer que ce type d'embranchement peut se produire si l’évolution a été multiple en un temps trop bref pour pouvoir distinguer lequel s'est produit en premier."
   ]
  },
  {
   "cell_type": "markdown",
   "metadata": {},
   "source": [
    "### UPGMA\n",
    "\n",
    "L'algorithme UPGMA se base sur la matrice de distance entre les séquences. À chaque itération, les séquences avec la distance la plus faible sont regroupées puis une nouvelle matrice de distance est calculée avec le nouveau groupe. Cette étape est répétée jusqu'à n'avoir plus qu'un seul groupe. Par exemple, avec la matrice de distance entre les séquences $A$, $B$, $C$ et $D$ suivante :\n",
    "\n",
    "|   &nbsp;   | A | B | C | D |\n",
    "|   -   | - | - | - | - |\n",
    "| **A** | &nbsp; | &nbsp; | &nbsp; | &nbsp; |\n",
    "| **B** | 4 | &nbsp; | &nbsp; | &nbsp; |\n",
    "| **C** | 8 | 8 | &nbsp; | &nbsp; |\n",
    "| **D** | 2 | 4 | 8 | &nbsp; |\n",
    "\n",
    "Les séquences $A$ et $D$ sont les plus proches ($distance(A,D)=2$). On les regroupe et on met à jour la matrice :\n",
    "\n",
    "|   &nbsp;   | (A, D) | B | C |\n",
    "|   -   | - | - | - |\n",
    "| **(A, D)** | &nbsp; | &nbsp; | &nbsp; |\n",
    "| **B** | 4 | &nbsp; | &nbsp; |\n",
    "| **C** | 8 | 8 | &nbsp; | &nbsp; |\n",
    "\n",
    "On regroupe maintenant $(A,D)$ et $B$ ($distance((A,D),B) = 4$) :\n",
    "\n",
    "|   &nbsp;   | ((A, D), B) | C |\n",
    "|   -   | - | - |\n",
    "| **((A, D), B)** | &nbsp; | &nbsp; |\n",
    "| **C** | 8 | &nbsp; |\n",
    "\n",
    "Important : les nouvelles distances sont calculées en moyennant les distances entre les membres du nouveau groupe et des groupes non modifiés pondéré par le nombre d'UTOs dans chaque groupe. Avec $i$ et $j$ les deux membres du groupe nouvellement formé et k les groupes restant : $d_{ij,k} = \\frac{n_id_{ik}}{n_i + n_j}+ \\frac{n_jd_{jk}}{n_i + n_j}$. Par exemple avec la distance entre $((A, D), B)$ et $C$:\n",
    "\n",
    "$distance(((A, D), B), C) = (distance((A, D), C)*2 + distance(B, C)) \\mathbin{/} 3 = (8*2 + 8) \\mathbin{/} 3 = 8 $.\n",
    "\n",
    "L'arbre final écrit dans le format Newick est : $((A, D), B), C);$ \n",
    "\n",
    "Et avec les distances : $((A:1, D:1):1, B:2):2, C:4);$ \n",
    "\n",
    "**Exercice 8 :** Implémenter une version d'UPGMA qui calcule l'arbre au format Newick **avec les distances** puis appliquer votre algorithme aux données. "
   ]
  },
  {
   "cell_type": "markdown",
   "metadata": {},
   "source": [
    "UPGMA"
   ]
  },
  {
   "cell_type": "code",
   "execution_count": 23,
   "metadata": {},
   "outputs": [
    {
     "data": {
      "text/plain": [
       "array([[0, 4, 8, 2],\n",
       "       [4, 0, 8, 4],\n",
       "       [8, 8, 0, 8],\n",
       "       [2, 4, 8, 0]])"
      ]
     },
     "execution_count": 23,
     "metadata": {},
     "output_type": "execute_result"
    }
   ],
   "source": [
    "nom2 = ['A', 'B', 'C', 'D','E']\n",
    "M = np.reshape((0,4,8,2,4,0,8,4,8,8,0,8,2,4,8,0),(4,4))\n",
    "M"
   ]
  },
  {
   "cell_type": "code",
   "execution_count": 24,
   "metadata": {},
   "outputs": [],
   "source": [
    "#Initialisation des dictionnaires que l'on va utiliser\n",
    "def init(M, uto):\n",
    "    value2name = dict()\n",
    "    name2size = dict()\n",
    "    name2depth = dict()\n",
    "    name2dist = dict()\n",
    "    for i in range(len(uto)):\n",
    "        name2size[uto[i]] = 1\n",
    "        name2depth[uto[i]] = 0\n",
    "        name2dist[uto[i]] = 0\n",
    "    for i in range(np.shape(M)[0]):\n",
    "        value2name[tuple(M[i])] = uto[i]\n",
    "    return name2depth, name2size,value2name,name2dist"
   ]
  },
  {
   "cell_type": "code",
   "execution_count": 25,
   "metadata": {},
   "outputs": [],
   "source": [
    "def minMatrice(m):\n",
    "    MIN = 9999999 \n",
    "    min_i = -1    \n",
    "    min_j = -1    \n",
    "    for i in range(np.shape(m)[0]):\n",
    "        for j in range(np.shape(m)[1]):\n",
    "            if m[i][j] < MIN and m[i][j] != 0:\n",
    "                MIN = m[i][j]\n",
    "                min_i = i\n",
    "                min_j = j\n",
    "    return min_i, min_j"
   ]
  },
  {
   "cell_type": "code",
   "execution_count": 26,
   "metadata": {},
   "outputs": [],
   "source": [
    "def compteSize(s):\n",
    "    res = 0\n",
    "    for i in range(len(s)):\n",
    "        if s[i] == '(':\n",
    "            res+=1\n",
    "    if res == 0:\n",
    "        return 1 \n",
    "    else:\n",
    "        return res"
   ]
  },
  {
   "cell_type": "code",
   "execution_count": 27,
   "metadata": {},
   "outputs": [],
   "source": [
    "#Renvoie la taille total de la branche\n",
    "def joinBranche(a,b, taille,name2depth):\n",
    "    return taille - name2depth[a]"
   ]
  },
  {
   "cell_type": "code",
   "execution_count": 28,
   "metadata": {},
   "outputs": [],
   "source": [
    "def upgma(M,nom):\n",
    "    res = np.copy(M)\n",
    "    name2depth, name2size,value2name,name2dist = init(res,nom)\n",
    "    print(\"begin\")\n",
    "    while(np.shape(M)[0] > 1):\n",
    "        #Recuperation des indices du minimum\n",
    "        idx, idy = minMatrice(M)\n",
    "        print(name2dist)\n",
    "        #le dict name2dist stocke la taille des branches\n",
    "        name2dist[nom[idx]] = joinBranche(nom[idx], nom[idy],res[idx][idy]/2,name2depth)\n",
    "        name2dist[nom[idy]] = joinBranche(nom[idy], nom[idx],res[idx][idy]/2,name2depth)\n",
    "        n = max(name2dist[nom[idx]],name2dist[nom[idy]])\n",
    "        \n",
    "        name2depth[nom[idx]] += name2dist[nom[idx]]\n",
    "        name2depth[nom[idy]] += name2dist[nom[idy]]\n",
    "        n_depth = max(name2depth[nom[idx]],name2depth[nom[idy]])\n",
    "        \n",
    "        for i in range(np.shape(M)[0]):\n",
    "            #La diagonale est a zero\n",
    "            if i == idx: \n",
    "                res[idx][i] = 0\n",
    "                res[i][idx] = 0\n",
    "            elif i == idy: \n",
    "                res[idy][i] = 0\n",
    "                res[i][idy] = 0\n",
    "            else:\n",
    "                #recalcul des distances\n",
    "                ni = compteSize(nom[idx])\n",
    "                nj = compteSize(nom[idy])\n",
    "                res[idx][i] = ((M[idx][i] * ni) + (M[idy][i] * nj))/(ni+nj)\n",
    "                res[i][idx] = ((M[i][idx] * ni) + (M[i][idy] * nj))/(ni+nj)\n",
    "        \n",
    "        \n",
    "\n",
    "        #la taille du nouveau groupe créé est incrémenté\n",
    "        name2size[nom[idx]]+=name2size[nom[idy]]\n",
    "        new_size = name2size[nom[idx]] \n",
    "        \n",
    "        #l'element a l'indice idy est supprimé de la matrice\n",
    "        res = np.delete(res,idy,0)\n",
    "        res = np.delete(res,idy,1)\n",
    "\n",
    "        #Construction du nouveau groupe (pas utilisé je crois)\n",
    "        new = \"(\" + nom[idx] + \",\" + nom[idy] + \")\"\n",
    "        #Construction du nouveau groupe avec les distances\n",
    "        newN = \"(\" + nom[idx] + ':' + str(name2dist[nom[idx]]) +  \",\" + nom[idy] + ':' + str(name2dist[nom[idy]]) + \")\"\n",
    "        \n",
    "        \n",
    "        name2size.pop(nom[idx])#on enleve le nom de l'index idx\n",
    "        nom[idx] = newN #On rajoute aux noms le nouveau groupe a la place de l'ancien nom d'indice idx\n",
    "        name2size[newN] = new_size #ajout dans les noms\n",
    "        name2dist[newN] = n \n",
    "        name2depth[newN] = n_depth\n",
    "        \n",
    "        \n",
    "        name2size.pop(nom[idy])\n",
    "        print(name2size)\n",
    "        nom.pop(idy)\n",
    "        value2name.clear()\n",
    "        j= 0\n",
    "        while(j < len(nom)):\n",
    "            \n",
    "            if(j != idy):\n",
    "                value2name[tuple(res[j])] = nom[j] #on affecte les values aux noms\n",
    "                j += 1\n",
    "            else:\n",
    "                j += 1 #on saute l'indice idy\n",
    "        \n",
    "        #mise a jour des parametres\n",
    "        M = res\n",
    "        new_size = 0\n",
    "    return nom"
   ]
  },
  {
   "cell_type": "code",
   "execution_count": 29,
   "metadata": {},
   "outputs": [
    {
     "name": "stdout",
     "output_type": "stream",
     "text": [
      "begin\n",
      "{'A Anne DNA': 0, 'B Bobby DNA': 0, 'C Cath DNA': 0, 'D Daniel DNA': 0}\n",
      "{'B Bobby DNA': 1, 'C Cath DNA': 1, '(A Anne DNA:1.0,D Daniel DNA:1.0)': 2}\n",
      "{'A Anne DNA': 1.0, 'B Bobby DNA': 0, 'C Cath DNA': 0, 'D Daniel DNA': 1.0, '(A Anne DNA:1.0,D Daniel DNA:1.0)': 1.0}\n",
      "{'C Cath DNA': 1, '((A Anne DNA:1.0,D Daniel DNA:1.0):1.0,B Bobby DNA:2.0)': 3}\n",
      "{'A Anne DNA': 1.0, 'B Bobby DNA': 2.0, 'C Cath DNA': 0, 'D Daniel DNA': 1.0, '(A Anne DNA:1.0,D Daniel DNA:1.0)': 1.0, '((A Anne DNA:1.0,D Daniel DNA:1.0):1.0,B Bobby DNA:2.0)': 2.0}\n",
      "{'(((A Anne DNA:1.0,D Daniel DNA:1.0):1.0,B Bobby DNA:2.0):2.0,C Cath DNA:4.0)': 4}\n"
     ]
    }
   ],
   "source": [
    "#=========================test=============================\n",
    "ex = np.reshape((0,4,8,2,4,0,8,4,8,8,0,8,2,4,8,0),(4,4))\n",
    "exNom = ['A Anne DNA','B Bobby DNA','C Cath DNA','D Daniel DNA']\n",
    "test = upgma(ex, exNom)"
   ]
  },
  {
   "cell_type": "code",
   "execution_count": 30,
   "metadata": {},
   "outputs": [
    {
     "data": {
      "text/plain": [
       "['(((A Anne DNA:1.0,D Daniel DNA:1.0):1.0,B Bobby DNA:2.0):2.0,C Cath DNA:4.0)']"
      ]
     },
     "execution_count": 30,
     "metadata": {},
     "output_type": "execute_result"
    }
   ],
   "source": [
    "test"
   ]
  },
  {
   "cell_type": "code",
   "execution_count": 31,
   "metadata": {},
   "outputs": [
    {
     "data": {
      "image/png": "[encoded data removed]",
      "text/plain": [
       "<IPython.core.display.Image object>"
      ]
     },
     "execution_count": 31,
     "metadata": {},
     "output_type": "execute_result"
    }
   ],
   "source": [
    "# À remplir\n",
    "t = Tree(test[0] + ';')\n",
    "ts = TreeStyle()\n",
    "ts.show_branch_length = True\n",
    "t.render('%%inline', w=183, units='mm', tree_style=ts)"
   ]
  },
  {
   "cell_type": "code",
   "execution_count": 32,
   "metadata": {},
   "outputs": [
    {
     "name": "stdout",
     "output_type": "stream",
     "text": [
      "begin\n",
      "{'A': 0, 'B': 0, 'C': 0, 'D': 0, 'E': 0, 'F': 0}\n",
      "{'C': 1, 'D': 1, 'E': 1, 'F': 1, '(A:1.0,B:1.0)': 2}\n",
      "{'A': 1.0, 'B': 1.0, 'C': 0, 'D': 0, 'E': 0, 'F': 0, '(A:1.0,B:1.0)': 1.0}\n",
      "{'D': 1, 'E': 1, 'F': 1, '((A:1.0,B:1.0):1.0,C:2.0)': 3}\n",
      "{'A': 1.0, 'B': 1.0, 'C': 2.0, 'D': 0, 'E': 0, 'F': 0, '(A:1.0,B:1.0)': 1.0, '((A:1.0,B:1.0):1.0,C:2.0)': 2.0}\n",
      "{'F': 1, '((A:1.0,B:1.0):1.0,C:2.0)': 3, '(D:2.0,E:2.0)': 2}\n",
      "{'A': 1.0, 'B': 1.0, 'C': 2.0, 'D': 2.0, 'E': 2.0, 'F': 0, '(A:1.0,B:1.0)': 1.0, '((A:1.0,B:1.0):1.0,C:2.0)': 2.0, '(D:2.0,E:2.0)': 2.0}\n",
      "{'F': 1, '(((A:1.0,B:1.0):1.0,C:2.0):1.0,(D:2.0,E:2.0):1.0)': 5}\n",
      "{'A': 1.0, 'B': 1.0, 'C': 2.0, 'D': 2.0, 'E': 2.0, 'F': 0, '(A:1.0,B:1.0)': 1.0, '((A:1.0,B:1.0):1.0,C:2.0)': 1.0, '(D:2.0,E:2.0)': 1.0, '(((A:1.0,B:1.0):1.0,C:2.0):1.0,(D:2.0,E:2.0):1.0)': 1.0}\n",
      "{'((((A:1.0,B:1.0):1.0,C:2.0):1.0,(D:2.0,E:2.0):1.0):1.0,F:4.0)': 6}\n"
     ]
    }
   ],
   "source": [
    "#=========================un autre test=============================\n",
    "ex3Nom = ['A','B','C','D','E','F']\n",
    "ex3 =[[0.0, 2.0, 4.0, 6.0,6.0,8.0],\n",
    "      [2.0, 0.0, 4.0, 6.0,6.0,8.0],\n",
    "      [4.0, 4.0, 0.0, 6.0,6.0,8.0],\n",
    "      [6.0, 6.0, 6.0, 0.0,4.0,8.0],\n",
    "      [6.0, 6.0, 6.0, 4.0,0.0,8.0],\n",
    "     [8.0, 8.0, 8.0, 8.0,8.0,0.0]]\n",
    "test3 = upgma(ex3,ex3Nom)"
   ]
  },
  {
   "cell_type": "code",
   "execution_count": 33,
   "metadata": {},
   "outputs": [
    {
     "data": {
      "image/png": "[encoded data removed]",
      "text/plain": [
       "<IPython.core.display.Image object>"
      ]
     },
     "execution_count": 33,
     "metadata": {},
     "output_type": "execute_result"
    }
   ],
   "source": [
    "t = Tree(test3[0] + ';')\n",
    "ts = TreeStyle()\n",
    "ts.show_branch_length = True\n",
    "t.render('%%inline', w=183, units='mm', tree_style=ts)"
   ]
  },
  {
   "cell_type": "code",
   "execution_count": 34,
   "metadata": {},
   "outputs": [],
   "source": [
    "uto = []\n",
    "for key, value in data.items():\n",
    "    uto.append(key)\n",
    "for i in range(len(uto)):\n",
    "    uto[i] = uto[i].replace('(', '[')\n",
    "    uto[i] = uto[i].replace(')', ']')"
   ]
  },
  {
   "cell_type": "code",
   "execution_count": 35,
   "metadata": {},
   "outputs": [
    {
     "data": {
      "text/plain": [
       "['Sabertooth DNA [Smilodon]',\n",
       " 'Homotherium DNA',\n",
       " 'American Cat DNA [Miracinonyx]',\n",
       " 'Spotted Hyena DNA',\n",
       " 'Striped Hyena DNA',\n",
       " 'Chinese Desert cat DNA',\n",
       " 'African wild cat DNA',\n",
       " 'Felis Cat A DNA',\n",
       " 'Wild Cat DNA',\n",
       " 'Cheetah DNA',\n",
       " 'Puma DNA',\n",
       " 'Tiger DNA',\n",
       " 'Lion DNA',\n",
       " 'Leopard DNA',\n",
       " 'Dog DNA',\n",
       " 'Wolf DNA',\n",
       " 'Black Bear DNA',\n",
       " 'Brown Bear DNA',\n",
       " 'Cave Bear DNA']"
      ]
     },
     "execution_count": 35,
     "metadata": {},
     "output_type": "execute_result"
    }
   ],
   "source": [
    "uto #noms que l'on va utiliser"
   ]
  },
  {
   "cell_type": "code",
   "execution_count": 36,
   "metadata": {},
   "outputs": [],
   "source": [
    "matrice = distance(data) #calcul de la matrice de distance des données"
   ]
  },
  {
   "cell_type": "code",
   "execution_count": 37,
   "metadata": {},
   "outputs": [
    {
     "name": "stdout",
     "output_type": "stream",
     "text": [
      "begin\n",
      "{'Sabertooth DNA [Smilodon]': 0, 'Homotherium DNA': 0, 'American Cat DNA [Miracinonyx]': 0, 'Spotted Hyena DNA': 0, 'Striped Hyena DNA': 0, 'Chinese Desert cat DNA': 0, 'African wild cat DNA': 0, 'Felis Cat A DNA': 0, 'Wild Cat DNA': 0, 'Cheetah DNA': 0, 'Puma DNA': 0, 'Tiger DNA': 0, 'Lion DNA': 0, 'Leopard DNA': 0, 'Dog DNA': 0, 'Wolf DNA': 0, 'Black Bear DNA': 0, 'Brown Bear DNA': 0, 'Cave Bear DNA': 0}\n",
      "{'Sabertooth DNA [Smilodon]': 1, 'Homotherium DNA': 1, 'American Cat DNA [Miracinonyx]': 1, 'Spotted Hyena DNA': 1, 'Striped Hyena DNA': 1, 'Chinese Desert cat DNA': 1, 'Felis Cat A DNA': 1, 'Cheetah DNA': 1, 'Puma DNA': 1, 'Tiger DNA': 1, 'Lion DNA': 1, 'Leopard DNA': 1, 'Dog DNA': 1, 'Wolf DNA': 1, 'Black Bear DNA': 1, 'Brown Bear DNA': 1, 'Cave Bear DNA': 1, '(African wild cat DNA:0.0053192381219836545,Wild Cat DNA:0.0053192381219836545)': 2}\n",
      "{'Sabertooth DNA [Smilodon]': 0, 'Homotherium DNA': 0, 'American Cat DNA [Miracinonyx]': 0, 'Spotted Hyena DNA': 0, 'Striped Hyena DNA': 0, 'Chinese Desert cat DNA': 0, 'African wild cat DNA': 0.0053192381219836545, 'Felis Cat A DNA': 0, 'Wild Cat DNA': 0.0053192381219836545, 'Cheetah DNA': 0, 'Puma DNA': 0, 'Tiger DNA': 0, 'Lion DNA': 0, 'Leopard DNA': 0, 'Dog DNA': 0, 'Wolf DNA': 0, 'Black Bear DNA': 0, 'Brown Bear DNA': 0, 'Cave Bear DNA': 0, '(African wild cat DNA:0.0053192381219836545,Wild Cat DNA:0.0053192381219836545)': 0.0053192381219836545}\n",
      "{'Sabertooth DNA [Smilodon]': 1, 'Homotherium DNA': 1, 'American Cat DNA [Miracinonyx]': 1, 'Spotted Hyena DNA': 1, 'Striped Hyena DNA': 1, 'Chinese Desert cat DNA': 1, 'Cheetah DNA': 1, 'Puma DNA': 1, 'Tiger DNA': 1, 'Lion DNA': 1, 'Leopard DNA': 1, 'Dog DNA': 1, 'Wolf DNA': 1, 'Black Bear DNA': 1, 'Brown Bear DNA': 1, 'Cave Bear DNA': 1, '((African wild cat DNA:0.0053192381219836545,Wild Cat DNA:0.0053192381219836545):0.0026892618316515897,Felis Cat A DNA:0.008008499953635244)': 3}\n",
      "{'Sabertooth DNA [Smilodon]': 0, 'Homotherium DNA': 0, 'American Cat DNA [Miracinonyx]': 0, 'Spotted Hyena DNA': 0, 'Striped Hyena DNA': 0, 'Chinese Desert cat DNA': 0, 'African wild cat DNA': 0.0053192381219836545, 'Felis Cat A DNA': 0.008008499953635244, 'Wild Cat DNA': 0.0053192381219836545, 'Cheetah DNA': 0, 'Puma DNA': 0, 'Tiger DNA': 0, 'Lion DNA': 0, 'Leopard DNA': 0, 'Dog DNA': 0, 'Wolf DNA': 0, 'Black Bear DNA': 0, 'Brown Bear DNA': 0, 'Cave Bear DNA': 0, '(African wild cat DNA:0.0053192381219836545,Wild Cat DNA:0.0053192381219836545)': 0.0026892618316515897, '((African wild cat DNA:0.0053192381219836545,Wild Cat DNA:0.0053192381219836545):0.0026892618316515897,Felis Cat A DNA:0.008008499953635244)': 0.008008499953635244}\n",
      "{'Sabertooth DNA [Smilodon]': 1, 'Homotherium DNA': 1, 'Spotted Hyena DNA': 1, 'Striped Hyena DNA': 1, 'Chinese Desert cat DNA': 1, 'Cheetah DNA': 1, 'Tiger DNA': 1, 'Lion DNA': 1, 'Leopard DNA': 1, 'Dog DNA': 1, 'Wolf DNA': 1, 'Black Bear DNA': 1, 'Brown Bear DNA': 1, 'Cave Bear DNA': 1, '((African wild cat DNA:0.0053192381219836545,Wild Cat DNA:0.0053192381219836545):0.0026892618316515897,Felis Cat A DNA:0.008008499953635244)': 3, '(American Cat DNA [Miracinonyx]:0.033109727679629365,Puma DNA:0.033109727679629365)': 2}\n",
      "{'Sabertooth DNA [Smilodon]': 0, 'Homotherium DNA': 0, 'American Cat DNA [Miracinonyx]': 0.033109727679629365, 'Spotted Hyena DNA': 0, 'Striped Hyena DNA': 0, 'Chinese Desert cat DNA': 0, 'African wild cat DNA': 0.0053192381219836545, 'Felis Cat A DNA': 0.008008499953635244, 'Wild Cat DNA': 0.0053192381219836545, 'Cheetah DNA': 0, 'Puma DNA': 0.033109727679629365, 'Tiger DNA': 0, 'Lion DNA': 0, 'Leopard DNA': 0, 'Dog DNA': 0, 'Wolf DNA': 0, 'Black Bear DNA': 0, 'Brown Bear DNA': 0, 'Cave Bear DNA': 0, '(African wild cat DNA:0.0053192381219836545,Wild Cat DNA:0.0053192381219836545)': 0.0026892618316515897, '((African wild cat DNA:0.0053192381219836545,Wild Cat DNA:0.0053192381219836545):0.0026892618316515897,Felis Cat A DNA:0.008008499953635244)': 0.008008499953635244, '(American Cat DNA [Miracinonyx]:0.033109727679629365,Puma DNA:0.033109727679629365)': 0.033109727679629365}\n",
      "{'Sabertooth DNA [Smilodon]': 1, 'Homotherium DNA': 1, 'Spotted Hyena DNA': 1, 'Striped Hyena DNA': 1, 'Chinese Desert cat DNA': 1, 'Cheetah DNA': 1, 'Tiger DNA': 1, 'Lion DNA': 1, 'Leopard DNA': 1, 'Dog DNA': 1, 'Wolf DNA': 1, 'Black Bear DNA': 1, '((African wild cat DNA:0.0053192381219836545,Wild Cat DNA:0.0053192381219836545):0.0026892618316515897,Felis Cat A DNA:0.008008499953635244)': 3, '(American Cat DNA [Miracinonyx]:0.033109727679629365,Puma DNA:0.033109727679629365)': 2, '(Brown Bear DNA:0.03503775249228635,Cave Bear DNA:0.03503775249228635)': 2}\n",
      "{'Sabertooth DNA [Smilodon]': 0, 'Homotherium DNA': 0, 'American Cat DNA [Miracinonyx]': 0.033109727679629365, 'Spotted Hyena DNA': 0, 'Striped Hyena DNA': 0, 'Chinese Desert cat DNA': 0, 'African wild cat DNA': 0.0053192381219836545, 'Felis Cat A DNA': 0.008008499953635244, 'Wild Cat DNA': 0.0053192381219836545, 'Cheetah DNA': 0, 'Puma DNA': 0.033109727679629365, 'Tiger DNA': 0, 'Lion DNA': 0, 'Leopard DNA': 0, 'Dog DNA': 0, 'Wolf DNA': 0, 'Black Bear DNA': 0, 'Brown Bear DNA': 0.03503775249228635, 'Cave Bear DNA': 0.03503775249228635, '(African wild cat DNA:0.0053192381219836545,Wild Cat DNA:0.0053192381219836545)': 0.0026892618316515897, '((African wild cat DNA:0.0053192381219836545,Wild Cat DNA:0.0053192381219836545):0.0026892618316515897,Felis Cat A DNA:0.008008499953635244)': 0.008008499953635244, '(American Cat DNA [Miracinonyx]:0.033109727679629365,Puma DNA:0.033109727679629365)': 0.033109727679629365, '(Brown Bear DNA:0.03503775249228635,Cave Bear DNA:0.03503775249228635)': 0.03503775249228635}\n",
      "{'Sabertooth DNA [Smilodon]': 1, 'Homotherium DNA': 1, 'Spotted Hyena DNA': 1, 'Striped Hyena DNA': 1, 'Chinese Desert cat DNA': 1, 'Cheetah DNA': 1, 'Tiger DNA': 1, 'Dog DNA': 1, 'Wolf DNA': 1, 'Black Bear DNA': 1, '((African wild cat DNA:0.0053192381219836545,Wild Cat DNA:0.0053192381219836545):0.0026892618316515897,Felis Cat A DNA:0.008008499953635244)': 3, '(American Cat DNA [Miracinonyx]:0.033109727679629365,Puma DNA:0.033109727679629365)': 2, '(Brown Bear DNA:0.03503775249228635,Cave Bear DNA:0.03503775249228635)': 2, '(Lion DNA:0.03892379763061633,Leopard DNA:0.03892379763061633)': 2}\n",
      "{'Sabertooth DNA [Smilodon]': 0, 'Homotherium DNA': 0, 'American Cat DNA [Miracinonyx]': 0.033109727679629365, 'Spotted Hyena DNA': 0, 'Striped Hyena DNA': 0, 'Chinese Desert cat DNA': 0, 'African wild cat DNA': 0.0053192381219836545, 'Felis Cat A DNA': 0.008008499953635244, 'Wild Cat DNA': 0.0053192381219836545, 'Cheetah DNA': 0, 'Puma DNA': 0.033109727679629365, 'Tiger DNA': 0, 'Lion DNA': 0.03892379763061633, 'Leopard DNA': 0.03892379763061633, 'Dog DNA': 0, 'Wolf DNA': 0, 'Black Bear DNA': 0, 'Brown Bear DNA': 0.03503775249228635, 'Cave Bear DNA': 0.03503775249228635, '(African wild cat DNA:0.0053192381219836545,Wild Cat DNA:0.0053192381219836545)': 0.0026892618316515897, '((African wild cat DNA:0.0053192381219836545,Wild Cat DNA:0.0053192381219836545):0.0026892618316515897,Felis Cat A DNA:0.008008499953635244)': 0.008008499953635244, '(American Cat DNA [Miracinonyx]:0.033109727679629365,Puma DNA:0.033109727679629365)': 0.033109727679629365, '(Brown Bear DNA:0.03503775249228635,Cave Bear DNA:0.03503775249228635)': 0.03503775249228635, '(Lion DNA:0.03892379763061633,Leopard DNA:0.03892379763061633)': 0.03892379763061633}\n",
      "{'Sabertooth DNA [Smilodon]': 1, 'Homotherium DNA': 1, 'Spotted Hyena DNA': 1, 'Striped Hyena DNA': 1, 'Chinese Desert cat DNA': 1, 'Tiger DNA': 1, 'Dog DNA': 1, 'Wolf DNA': 1, 'Black Bear DNA': 1, '((African wild cat DNA:0.0053192381219836545,Wild Cat DNA:0.0053192381219836545):0.0026892618316515897,Felis Cat A DNA:0.008008499953635244)': 3, '(Brown Bear DNA:0.03503775249228635,Cave Bear DNA:0.03503775249228635)': 2, '(Lion DNA:0.03892379763061633,Leopard DNA:0.03892379763061633)': 2, '((American Cat DNA [Miracinonyx]:0.033109727679629365,Puma DNA:0.033109727679629365):0.013714403477487098,Cheetah DNA:0.046824131157116464)': 3}\n",
      "{'Sabertooth DNA [Smilodon]': 0, 'Homotherium DNA': 0, 'American Cat DNA [Miracinonyx]': 0.033109727679629365, 'Spotted Hyena DNA': 0, 'Striped Hyena DNA': 0, 'Chinese Desert cat DNA': 0, 'African wild cat DNA': 0.0053192381219836545, 'Felis Cat A DNA': 0.008008499953635244, 'Wild Cat DNA': 0.0053192381219836545, 'Cheetah DNA': 0.046824131157116464, 'Puma DNA': 0.033109727679629365, 'Tiger DNA': 0, 'Lion DNA': 0.03892379763061633, 'Leopard DNA': 0.03892379763061633, 'Dog DNA': 0, 'Wolf DNA': 0, 'Black Bear DNA': 0, 'Brown Bear DNA': 0.03503775249228635, 'Cave Bear DNA': 0.03503775249228635, '(African wild cat DNA:0.0053192381219836545,Wild Cat DNA:0.0053192381219836545)': 0.0026892618316515897, '((African wild cat DNA:0.0053192381219836545,Wild Cat DNA:0.0053192381219836545):0.0026892618316515897,Felis Cat A DNA:0.008008499953635244)': 0.008008499953635244, '(American Cat DNA [Miracinonyx]:0.033109727679629365,Puma DNA:0.033109727679629365)': 0.013714403477487098, '(Brown Bear DNA:0.03503775249228635,Cave Bear DNA:0.03503775249228635)': 0.03503775249228635, '(Lion DNA:0.03892379763061633,Leopard DNA:0.03892379763061633)': 0.03892379763061633, '((American Cat DNA [Miracinonyx]:0.033109727679629365,Puma DNA:0.033109727679629365):0.013714403477487098,Cheetah DNA:0.046824131157116464)': 0.046824131157116464}\n",
      "{'Sabertooth DNA [Smilodon]': 1, 'Homotherium DNA': 1, 'Spotted Hyena DNA': 1, 'Striped Hyena DNA': 1, 'Tiger DNA': 1, 'Dog DNA': 1, 'Wolf DNA': 1, 'Black Bear DNA': 1, '(Brown Bear DNA:0.03503775249228635,Cave Bear DNA:0.03503775249228635)': 2, '(Lion DNA:0.03892379763061633,Leopard DNA:0.03892379763061633)': 2, '((American Cat DNA [Miracinonyx]:0.033109727679629365,Puma DNA:0.033109727679629365):0.013714403477487098,Cheetah DNA:0.046824131157116464)': 3, '(Chinese Desert cat DNA:0.05642472243719993,((African wild cat DNA:0.0053192381219836545,Wild Cat DNA:0.0053192381219836545):0.0026892618316515897,Felis Cat A DNA:0.008008499953635244):0.04841622248356469)': 4}\n",
      "{'Sabertooth DNA [Smilodon]': 0, 'Homotherium DNA': 0, 'American Cat DNA [Miracinonyx]': 0.033109727679629365, 'Spotted Hyena DNA': 0, 'Striped Hyena DNA': 0, 'Chinese Desert cat DNA': 0.05642472243719993, 'African wild cat DNA': 0.0053192381219836545, 'Felis Cat A DNA': 0.008008499953635244, 'Wild Cat DNA': 0.0053192381219836545, 'Cheetah DNA': 0.046824131157116464, 'Puma DNA': 0.033109727679629365, 'Tiger DNA': 0, 'Lion DNA': 0.03892379763061633, 'Leopard DNA': 0.03892379763061633, 'Dog DNA': 0, 'Wolf DNA': 0, 'Black Bear DNA': 0, 'Brown Bear DNA': 0.03503775249228635, 'Cave Bear DNA': 0.03503775249228635, '(African wild cat DNA:0.0053192381219836545,Wild Cat DNA:0.0053192381219836545)': 0.0026892618316515897, '((African wild cat DNA:0.0053192381219836545,Wild Cat DNA:0.0053192381219836545):0.0026892618316515897,Felis Cat A DNA:0.008008499953635244)': 0.04841622248356469, '(American Cat DNA [Miracinonyx]:0.033109727679629365,Puma DNA:0.033109727679629365)': 0.013714403477487098, '(Brown Bear DNA:0.03503775249228635,Cave Bear DNA:0.03503775249228635)': 0.03503775249228635, '(Lion DNA:0.03892379763061633,Leopard DNA:0.03892379763061633)': 0.03892379763061633, '((American Cat DNA [Miracinonyx]:0.033109727679629365,Puma DNA:0.033109727679629365):0.013714403477487098,Cheetah DNA:0.046824131157116464)': 0.046824131157116464, '(Chinese Desert cat DNA:0.05642472243719993,((African wild cat DNA:0.0053192381219836545,Wild Cat DNA:0.0053192381219836545):0.0026892618316515897,Felis Cat A DNA:0.008008499953635244):0.04841622248356469)': 0.05642472243719993}\n",
      "{'Sabertooth DNA [Smilodon]': 1, 'Homotherium DNA': 1, 'Spotted Hyena DNA': 1, 'Striped Hyena DNA': 1, 'Dog DNA': 1, 'Wolf DNA': 1, 'Black Bear DNA': 1, '(Brown Bear DNA:0.03503775249228635,Cave Bear DNA:0.03503775249228635)': 2, '((American Cat DNA [Miracinonyx]:0.033109727679629365,Puma DNA:0.033109727679629365):0.013714403477487098,Cheetah DNA:0.046824131157116464)': 3, '(Chinese Desert cat DNA:0.05642472243719993,((African wild cat DNA:0.0053192381219836545,Wild Cat DNA:0.0053192381219836545):0.0026892618316515897,Felis Cat A DNA:0.008008499953635244):0.04841622248356469)': 4, '(Tiger DNA:0.05903300634370695,(Lion DNA:0.03892379763061633,Leopard DNA:0.03892379763061633):0.020109208713090618)': 3}\n",
      "{'Sabertooth DNA [Smilodon]': 0, 'Homotherium DNA': 0, 'American Cat DNA [Miracinonyx]': 0.033109727679629365, 'Spotted Hyena DNA': 0, 'Striped Hyena DNA': 0, 'Chinese Desert cat DNA': 0.05642472243719993, 'African wild cat DNA': 0.0053192381219836545, 'Felis Cat A DNA': 0.008008499953635244, 'Wild Cat DNA': 0.0053192381219836545, 'Cheetah DNA': 0.046824131157116464, 'Puma DNA': 0.033109727679629365, 'Tiger DNA': 0.05903300634370695, 'Lion DNA': 0.03892379763061633, 'Leopard DNA': 0.03892379763061633, 'Dog DNA': 0, 'Wolf DNA': 0, 'Black Bear DNA': 0, 'Brown Bear DNA': 0.03503775249228635, 'Cave Bear DNA': 0.03503775249228635, '(African wild cat DNA:0.0053192381219836545,Wild Cat DNA:0.0053192381219836545)': 0.0026892618316515897, '((African wild cat DNA:0.0053192381219836545,Wild Cat DNA:0.0053192381219836545):0.0026892618316515897,Felis Cat A DNA:0.008008499953635244)': 0.04841622248356469, '(American Cat DNA [Miracinonyx]:0.033109727679629365,Puma DNA:0.033109727679629365)': 0.013714403477487098, '(Brown Bear DNA:0.03503775249228635,Cave Bear DNA:0.03503775249228635)': 0.03503775249228635, '(Lion DNA:0.03892379763061633,Leopard DNA:0.03892379763061633)': 0.020109208713090618, '((American Cat DNA [Miracinonyx]:0.033109727679629365,Puma DNA:0.033109727679629365):0.013714403477487098,Cheetah DNA:0.046824131157116464)': 0.046824131157116464, '(Chinese Desert cat DNA:0.05642472243719993,((African wild cat DNA:0.0053192381219836545,Wild Cat DNA:0.0053192381219836545):0.0026892618316515897,Felis Cat A DNA:0.008008499953635244):0.04841622248356469)': 0.05642472243719993, '(Tiger DNA:0.05903300634370695,(Lion DNA:0.03892379763061633,Leopard DNA:0.03892379763061633):0.020109208713090618)': 0.05903300634370695}\n",
      "{'Sabertooth DNA [Smilodon]': 1, 'Homotherium DNA': 1, 'Spotted Hyena DNA': 1, 'Striped Hyena DNA': 1, 'Dog DNA': 1, 'Wolf DNA': 1, 'Black Bear DNA': 1, '(Brown Bear DNA:0.03503775249228635,Cave Bear DNA:0.03503775249228635)': 2, '(Tiger DNA:0.05903300634370695,(Lion DNA:0.03892379763061633,Leopard DNA:0.03892379763061633):0.020109208713090618)': 3, '(((American Cat DNA [Miracinonyx]:0.033109727679629365,Puma DNA:0.033109727679629365):0.013714403477487098,Cheetah DNA:0.046824131157116464):0.016715925551677085,(Chinese Desert cat DNA:0.05642472243719993,((African wild cat DNA:0.0053192381219836545,Wild Cat DNA:0.0053192381219836545):0.0026892618316515897,Felis Cat A DNA:0.008008499953635244):0.04841622248356469):0.007115334271593617)': 7}\n",
      "{'Sabertooth DNA [Smilodon]': 0, 'Homotherium DNA': 0, 'American Cat DNA [Miracinonyx]': 0.033109727679629365, 'Spotted Hyena DNA': 0, 'Striped Hyena DNA': 0, 'Chinese Desert cat DNA': 0.05642472243719993, 'African wild cat DNA': 0.0053192381219836545, 'Felis Cat A DNA': 0.008008499953635244, 'Wild Cat DNA': 0.0053192381219836545, 'Cheetah DNA': 0.046824131157116464, 'Puma DNA': 0.033109727679629365, 'Tiger DNA': 0.05903300634370695, 'Lion DNA': 0.03892379763061633, 'Leopard DNA': 0.03892379763061633, 'Dog DNA': 0, 'Wolf DNA': 0, 'Black Bear DNA': 0, 'Brown Bear DNA': 0.03503775249228635, 'Cave Bear DNA': 0.03503775249228635, '(African wild cat DNA:0.0053192381219836545,Wild Cat DNA:0.0053192381219836545)': 0.0026892618316515897, '((African wild cat DNA:0.0053192381219836545,Wild Cat DNA:0.0053192381219836545):0.0026892618316515897,Felis Cat A DNA:0.008008499953635244)': 0.04841622248356469, '(American Cat DNA [Miracinonyx]:0.033109727679629365,Puma DNA:0.033109727679629365)': 0.013714403477487098, '(Brown Bear DNA:0.03503775249228635,Cave Bear DNA:0.03503775249228635)': 0.03503775249228635, '(Lion DNA:0.03892379763061633,Leopard DNA:0.03892379763061633)': 0.020109208713090618, '((American Cat DNA [Miracinonyx]:0.033109727679629365,Puma DNA:0.033109727679629365):0.013714403477487098,Cheetah DNA:0.046824131157116464)': 0.016715925551677085, '(Chinese Desert cat DNA:0.05642472243719993,((African wild cat DNA:0.0053192381219836545,Wild Cat DNA:0.0053192381219836545):0.0026892618316515897,Felis Cat A DNA:0.008008499953635244):0.04841622248356469)': 0.007115334271593617, '(Tiger DNA:0.05903300634370695,(Lion DNA:0.03892379763061633,Leopard DNA:0.03892379763061633):0.020109208713090618)': 0.05903300634370695, '(((American Cat DNA [Miracinonyx]:0.033109727679629365,Puma DNA:0.033109727679629365):0.013714403477487098,Cheetah DNA:0.046824131157116464):0.016715925551677085,(Chinese Desert cat DNA:0.05642472243719993,((African wild cat DNA:0.0053192381219836545,Wild Cat DNA:0.0053192381219836545):0.0026892618316515897,Felis Cat A DNA:0.008008499953635244):0.04841622248356469):0.007115334271593617)': 0.016715925551677085}\n",
      "{'Sabertooth DNA [Smilodon]': 1, 'Homotherium DNA': 1, 'Dog DNA': 1, 'Wolf DNA': 1, 'Black Bear DNA': 1, '(Brown Bear DNA:0.03503775249228635,Cave Bear DNA:0.03503775249228635)': 2, '(Tiger DNA:0.05903300634370695,(Lion DNA:0.03892379763061633,Leopard DNA:0.03892379763061633):0.020109208713090618)': 3, '(((American Cat DNA [Miracinonyx]:0.033109727679629365,Puma DNA:0.033109727679629365):0.013714403477487098,Cheetah DNA:0.046824131157116464):0.016715925551677085,(Chinese Desert cat DNA:0.05642472243719993,((African wild cat DNA:0.0053192381219836545,Wild Cat DNA:0.0053192381219836545):0.0026892618316515897,Felis Cat A DNA:0.008008499953635244):0.04841622248356469):0.007115334271593617)': 7, '(Spotted Hyena DNA:0.06731573078150245,Striped Hyena DNA:0.06731573078150245)': 2}\n",
      "{'Sabertooth DNA [Smilodon]': 0, 'Homotherium DNA': 0, 'American Cat DNA [Miracinonyx]': 0.033109727679629365, 'Spotted Hyena DNA': 0.06731573078150245, 'Striped Hyena DNA': 0.06731573078150245, 'Chinese Desert cat DNA': 0.05642472243719993, 'African wild cat DNA': 0.0053192381219836545, 'Felis Cat A DNA': 0.008008499953635244, 'Wild Cat DNA': 0.0053192381219836545, 'Cheetah DNA': 0.046824131157116464, 'Puma DNA': 0.033109727679629365, 'Tiger DNA': 0.05903300634370695, 'Lion DNA': 0.03892379763061633, 'Leopard DNA': 0.03892379763061633, 'Dog DNA': 0, 'Wolf DNA': 0, 'Black Bear DNA': 0, 'Brown Bear DNA': 0.03503775249228635, 'Cave Bear DNA': 0.03503775249228635, '(African wild cat DNA:0.0053192381219836545,Wild Cat DNA:0.0053192381219836545)': 0.0026892618316515897, '((African wild cat DNA:0.0053192381219836545,Wild Cat DNA:0.0053192381219836545):0.0026892618316515897,Felis Cat A DNA:0.008008499953635244)': 0.04841622248356469, '(American Cat DNA [Miracinonyx]:0.033109727679629365,Puma DNA:0.033109727679629365)': 0.013714403477487098, '(Brown Bear DNA:0.03503775249228635,Cave Bear DNA:0.03503775249228635)': 0.03503775249228635, '(Lion DNA:0.03892379763061633,Leopard DNA:0.03892379763061633)': 0.020109208713090618, '((American Cat DNA [Miracinonyx]:0.033109727679629365,Puma DNA:0.033109727679629365):0.013714403477487098,Cheetah DNA:0.046824131157116464)': 0.016715925551677085, '(Chinese Desert cat DNA:0.05642472243719993,((African wild cat DNA:0.0053192381219836545,Wild Cat DNA:0.0053192381219836545):0.0026892618316515897,Felis Cat A DNA:0.008008499953635244):0.04841622248356469)': 0.007115334271593617, '(Tiger DNA:0.05903300634370695,(Lion DNA:0.03892379763061633,Leopard DNA:0.03892379763061633):0.020109208713090618)': 0.05903300634370695, '(((American Cat DNA [Miracinonyx]:0.033109727679629365,Puma DNA:0.033109727679629365):0.013714403477487098,Cheetah DNA:0.046824131157116464):0.016715925551677085,(Chinese Desert cat DNA:0.05642472243719993,((African wild cat DNA:0.0053192381219836545,Wild Cat DNA:0.0053192381219836545):0.0026892618316515897,Felis Cat A DNA:0.008008499953635244):0.04841622248356469):0.007115334271593617)': 0.016715925551677085, '(Spotted Hyena DNA:0.06731573078150245,Striped Hyena DNA:0.06731573078150245)': 0.06731573078150245}\n",
      "{'Sabertooth DNA [Smilodon]': 1, 'Homotherium DNA': 1, 'Dog DNA': 1, 'Wolf DNA': 1, '(Tiger DNA:0.05903300634370695,(Lion DNA:0.03892379763061633,Leopard DNA:0.03892379763061633):0.020109208713090618)': 3, '(((American Cat DNA [Miracinonyx]:0.033109727679629365,Puma DNA:0.033109727679629365):0.013714403477487098,Cheetah DNA:0.046824131157116464):0.016715925551677085,(Chinese Desert cat DNA:0.05642472243719993,((African wild cat DNA:0.0053192381219836545,Wild Cat DNA:0.0053192381219836545):0.0026892618316515897,Felis Cat A DNA:0.008008499953635244):0.04841622248356469):0.007115334271593617)': 7, '(Spotted Hyena DNA:0.06731573078150245,Striped Hyena DNA:0.06731573078150245)': 2, '(Black Bear DNA:0.06948228399639578,(Brown Bear DNA:0.03503775249228635,Cave Bear DNA:0.03503775249228635):0.03444453150410943)': 3}\n",
      "{'Sabertooth DNA [Smilodon]': 0, 'Homotherium DNA': 0, 'American Cat DNA [Miracinonyx]': 0.033109727679629365, 'Spotted Hyena DNA': 0.06731573078150245, 'Striped Hyena DNA': 0.06731573078150245, 'Chinese Desert cat DNA': 0.05642472243719993, 'African wild cat DNA': 0.0053192381219836545, 'Felis Cat A DNA': 0.008008499953635244, 'Wild Cat DNA': 0.0053192381219836545, 'Cheetah DNA': 0.046824131157116464, 'Puma DNA': 0.033109727679629365, 'Tiger DNA': 0.05903300634370695, 'Lion DNA': 0.03892379763061633, 'Leopard DNA': 0.03892379763061633, 'Dog DNA': 0, 'Wolf DNA': 0, 'Black Bear DNA': 0.06948228399639578, 'Brown Bear DNA': 0.03503775249228635, 'Cave Bear DNA': 0.03503775249228635, '(African wild cat DNA:0.0053192381219836545,Wild Cat DNA:0.0053192381219836545)': 0.0026892618316515897, '((African wild cat DNA:0.0053192381219836545,Wild Cat DNA:0.0053192381219836545):0.0026892618316515897,Felis Cat A DNA:0.008008499953635244)': 0.04841622248356469, '(American Cat DNA [Miracinonyx]:0.033109727679629365,Puma DNA:0.033109727679629365)': 0.013714403477487098, '(Brown Bear DNA:0.03503775249228635,Cave Bear DNA:0.03503775249228635)': 0.03444453150410943, '(Lion DNA:0.03892379763061633,Leopard DNA:0.03892379763061633)': 0.020109208713090618, '((American Cat DNA [Miracinonyx]:0.033109727679629365,Puma DNA:0.033109727679629365):0.013714403477487098,Cheetah DNA:0.046824131157116464)': 0.016715925551677085, '(Chinese Desert cat DNA:0.05642472243719993,((African wild cat DNA:0.0053192381219836545,Wild Cat DNA:0.0053192381219836545):0.0026892618316515897,Felis Cat A DNA:0.008008499953635244):0.04841622248356469)': 0.007115334271593617, '(Tiger DNA:0.05903300634370695,(Lion DNA:0.03892379763061633,Leopard DNA:0.03892379763061633):0.020109208713090618)': 0.05903300634370695, '(((American Cat DNA [Miracinonyx]:0.033109727679629365,Puma DNA:0.033109727679629365):0.013714403477487098,Cheetah DNA:0.046824131157116464):0.016715925551677085,(Chinese Desert cat DNA:0.05642472243719993,((African wild cat DNA:0.0053192381219836545,Wild Cat DNA:0.0053192381219836545):0.0026892618316515897,Felis Cat A DNA:0.008008499953635244):0.04841622248356469):0.007115334271593617)': 0.016715925551677085, '(Spotted Hyena DNA:0.06731573078150245,Striped Hyena DNA:0.06731573078150245)': 0.06731573078150245, '(Black Bear DNA:0.06948228399639578,(Brown Bear DNA:0.03503775249228635,Cave Bear DNA:0.03503775249228635):0.03444453150410943)': 0.06948228399639578}\n",
      "{'Sabertooth DNA [Smilodon]': 1, 'Homotherium DNA': 1, 'Dog DNA': 1, 'Wolf DNA': 1, '(Spotted Hyena DNA:0.06731573078150245,Striped Hyena DNA:0.06731573078150245)': 2, '(Black Bear DNA:0.06948228399639578,(Brown Bear DNA:0.03503775249228635,Cave Bear DNA:0.03503775249228635):0.03444453150410943)': 3, '((((American Cat DNA [Miracinonyx]:0.033109727679629365,Puma DNA:0.033109727679629365):0.013714403477487098,Cheetah DNA:0.046824131157116464):0.016715925551677085,(Chinese Desert cat DNA:0.05642472243719993,((African wild cat DNA:0.0053192381219836545,Wild Cat DNA:0.0053192381219836545):0.0026892618316515897,Felis Cat A DNA:0.008008499953635244):0.04841622248356469):0.007115334271593617):0.008836907309831554,(Tiger DNA:0.05903300634370695,(Lion DNA:0.03892379763061633,Leopard DNA:0.03892379763061633):0.020109208713090618):0.013343957674918153)': 10}\n",
      "{'Sabertooth DNA [Smilodon]': 0, 'Homotherium DNA': 0, 'American Cat DNA [Miracinonyx]': 0.033109727679629365, 'Spotted Hyena DNA': 0.06731573078150245, 'Striped Hyena DNA': 0.06731573078150245, 'Chinese Desert cat DNA': 0.05642472243719993, 'African wild cat DNA': 0.0053192381219836545, 'Felis Cat A DNA': 0.008008499953635244, 'Wild Cat DNA': 0.0053192381219836545, 'Cheetah DNA': 0.046824131157116464, 'Puma DNA': 0.033109727679629365, 'Tiger DNA': 0.05903300634370695, 'Lion DNA': 0.03892379763061633, 'Leopard DNA': 0.03892379763061633, 'Dog DNA': 0, 'Wolf DNA': 0, 'Black Bear DNA': 0.06948228399639578, 'Brown Bear DNA': 0.03503775249228635, 'Cave Bear DNA': 0.03503775249228635, '(African wild cat DNA:0.0053192381219836545,Wild Cat DNA:0.0053192381219836545)': 0.0026892618316515897, '((African wild cat DNA:0.0053192381219836545,Wild Cat DNA:0.0053192381219836545):0.0026892618316515897,Felis Cat A DNA:0.008008499953635244)': 0.04841622248356469, '(American Cat DNA [Miracinonyx]:0.033109727679629365,Puma DNA:0.033109727679629365)': 0.013714403477487098, '(Brown Bear DNA:0.03503775249228635,Cave Bear DNA:0.03503775249228635)': 0.03444453150410943, '(Lion DNA:0.03892379763061633,Leopard DNA:0.03892379763061633)': 0.020109208713090618, '((American Cat DNA [Miracinonyx]:0.033109727679629365,Puma DNA:0.033109727679629365):0.013714403477487098,Cheetah DNA:0.046824131157116464)': 0.016715925551677085, '(Chinese Desert cat DNA:0.05642472243719993,((African wild cat DNA:0.0053192381219836545,Wild Cat DNA:0.0053192381219836545):0.0026892618316515897,Felis Cat A DNA:0.008008499953635244):0.04841622248356469)': 0.007115334271593617, '(Tiger DNA:0.05903300634370695,(Lion DNA:0.03892379763061633,Leopard DNA:0.03892379763061633):0.020109208713090618)': 0.013343957674918153, '(((American Cat DNA [Miracinonyx]:0.033109727679629365,Puma DNA:0.033109727679629365):0.013714403477487098,Cheetah DNA:0.046824131157116464):0.016715925551677085,(Chinese Desert cat DNA:0.05642472243719993,((African wild cat DNA:0.0053192381219836545,Wild Cat DNA:0.0053192381219836545):0.0026892618316515897,Felis Cat A DNA:0.008008499953635244):0.04841622248356469):0.007115334271593617)': 0.008836907309831554, '(Spotted Hyena DNA:0.06731573078150245,Striped Hyena DNA:0.06731573078150245)': 0.06731573078150245, '(Black Bear DNA:0.06948228399639578,(Brown Bear DNA:0.03503775249228635,Cave Bear DNA:0.03503775249228635):0.03444453150410943)': 0.06948228399639578, '((((American Cat DNA [Miracinonyx]:0.033109727679629365,Puma DNA:0.033109727679629365):0.013714403477487098,Cheetah DNA:0.046824131157116464):0.016715925551677085,(Chinese Desert cat DNA:0.05642472243719993,((African wild cat DNA:0.0053192381219836545,Wild Cat DNA:0.0053192381219836545):0.0026892618316515897,Felis Cat A DNA:0.008008499953635244):0.04841622248356469):0.007115334271593617):0.008836907309831554,(Tiger DNA:0.05903300634370695,(Lion DNA:0.03892379763061633,Leopard DNA:0.03892379763061633):0.020109208713090618):0.013343957674918153)': 0.013343957674918153}\n",
      "{'Homotherium DNA': 1, 'Dog DNA': 1, 'Wolf DNA': 1, '(Spotted Hyena DNA:0.06731573078150245,Striped Hyena DNA:0.06731573078150245)': 2, '(Black Bear DNA:0.06948228399639578,(Brown Bear DNA:0.03503775249228635,Cave Bear DNA:0.03503775249228635):0.03444453150410943)': 3, '(Sabertooth DNA [Smilodon]:0.0809443307689833,((((American Cat DNA [Miracinonyx]:0.033109727679629365,Puma DNA:0.033109727679629365):0.013714403477487098,Cheetah DNA:0.046824131157116464):0.016715925551677085,(Chinese Desert cat DNA:0.05642472243719993,((African wild cat DNA:0.0053192381219836545,Wild Cat DNA:0.0053192381219836545):0.0026892618316515897,Felis Cat A DNA:0.008008499953635244):0.04841622248356469):0.007115334271593617):0.008836907309831554,(Tiger DNA:0.05903300634370695,(Lion DNA:0.03892379763061633,Leopard DNA:0.03892379763061633):0.020109208713090618):0.013343957674918153):0.008567366750358199)': 11}\n",
      "{'Sabertooth DNA [Smilodon]': 0.0809443307689833, 'Homotherium DNA': 0, 'American Cat DNA [Miracinonyx]': 0.033109727679629365, 'Spotted Hyena DNA': 0.06731573078150245, 'Striped Hyena DNA': 0.06731573078150245, 'Chinese Desert cat DNA': 0.05642472243719993, 'African wild cat DNA': 0.0053192381219836545, 'Felis Cat A DNA': 0.008008499953635244, 'Wild Cat DNA': 0.0053192381219836545, 'Cheetah DNA': 0.046824131157116464, 'Puma DNA': 0.033109727679629365, 'Tiger DNA': 0.05903300634370695, 'Lion DNA': 0.03892379763061633, 'Leopard DNA': 0.03892379763061633, 'Dog DNA': 0, 'Wolf DNA': 0, 'Black Bear DNA': 0.06948228399639578, 'Brown Bear DNA': 0.03503775249228635, 'Cave Bear DNA': 0.03503775249228635, '(African wild cat DNA:0.0053192381219836545,Wild Cat DNA:0.0053192381219836545)': 0.0026892618316515897, '((African wild cat DNA:0.0053192381219836545,Wild Cat DNA:0.0053192381219836545):0.0026892618316515897,Felis Cat A DNA:0.008008499953635244)': 0.04841622248356469, '(American Cat DNA [Miracinonyx]:0.033109727679629365,Puma DNA:0.033109727679629365)': 0.013714403477487098, '(Brown Bear DNA:0.03503775249228635,Cave Bear DNA:0.03503775249228635)': 0.03444453150410943, '(Lion DNA:0.03892379763061633,Leopard DNA:0.03892379763061633)': 0.020109208713090618, '((American Cat DNA [Miracinonyx]:0.033109727679629365,Puma DNA:0.033109727679629365):0.013714403477487098,Cheetah DNA:0.046824131157116464)': 0.016715925551677085, '(Chinese Desert cat DNA:0.05642472243719993,((African wild cat DNA:0.0053192381219836545,Wild Cat DNA:0.0053192381219836545):0.0026892618316515897,Felis Cat A DNA:0.008008499953635244):0.04841622248356469)': 0.007115334271593617, '(Tiger DNA:0.05903300634370695,(Lion DNA:0.03892379763061633,Leopard DNA:0.03892379763061633):0.020109208713090618)': 0.013343957674918153, '(((American Cat DNA [Miracinonyx]:0.033109727679629365,Puma DNA:0.033109727679629365):0.013714403477487098,Cheetah DNA:0.046824131157116464):0.016715925551677085,(Chinese Desert cat DNA:0.05642472243719993,((African wild cat DNA:0.0053192381219836545,Wild Cat DNA:0.0053192381219836545):0.0026892618316515897,Felis Cat A DNA:0.008008499953635244):0.04841622248356469):0.007115334271593617)': 0.008836907309831554, '(Spotted Hyena DNA:0.06731573078150245,Striped Hyena DNA:0.06731573078150245)': 0.06731573078150245, '(Black Bear DNA:0.06948228399639578,(Brown Bear DNA:0.03503775249228635,Cave Bear DNA:0.03503775249228635):0.03444453150410943)': 0.06948228399639578, '((((American Cat DNA [Miracinonyx]:0.033109727679629365,Puma DNA:0.033109727679629365):0.013714403477487098,Cheetah DNA:0.046824131157116464):0.016715925551677085,(Chinese Desert cat DNA:0.05642472243719993,((African wild cat DNA:0.0053192381219836545,Wild Cat DNA:0.0053192381219836545):0.0026892618316515897,Felis Cat A DNA:0.008008499953635244):0.04841622248356469):0.007115334271593617):0.008836907309831554,(Tiger DNA:0.05903300634370695,(Lion DNA:0.03892379763061633,Leopard DNA:0.03892379763061633):0.020109208713090618):0.013343957674918153)': 0.008567366750358199, '(Sabertooth DNA [Smilodon]:0.0809443307689833,((((American Cat DNA [Miracinonyx]:0.033109727679629365,Puma DNA:0.033109727679629365):0.013714403477487098,Cheetah DNA:0.046824131157116464):0.016715925551677085,(Chinese Desert cat DNA:0.05642472243719993,((African wild cat DNA:0.0053192381219836545,Wild Cat DNA:0.0053192381219836545):0.0026892618316515897,Felis Cat A DNA:0.008008499953635244):0.04841622248356469):0.007115334271593617):0.008836907309831554,(Tiger DNA:0.05903300634370695,(Lion DNA:0.03892379763061633,Leopard DNA:0.03892379763061633):0.020109208713090618):0.013343957674918153):0.008567366750358199)': 0.0809443307689833}\n",
      "{'Homotherium DNA': 1, 'Dog DNA': 1, 'Wolf DNA': 1, '(Black Bear DNA:0.06948228399639578,(Brown Bear DNA:0.03503775249228635,Cave Bear DNA:0.03503775249228635):0.03444453150410943)': 3, '((Sabertooth DNA [Smilodon]:0.0809443307689833,((((American Cat DNA [Miracinonyx]:0.033109727679629365,Puma DNA:0.033109727679629365):0.013714403477487098,Cheetah DNA:0.046824131157116464):0.016715925551677085,(Chinese Desert cat DNA:0.05642472243719993,((African wild cat DNA:0.0053192381219836545,Wild Cat DNA:0.0053192381219836545):0.0026892618316515897,Felis Cat A DNA:0.008008499953635244):0.04841622248356469):0.007115334271593617):0.008836907309831554,(Tiger DNA:0.05903300634370695,(Lion DNA:0.03892379763061633,Leopard DNA:0.03892379763061633):0.020109208713090618):0.013343957674918153):0.008567366750358199):0.011355878601200589,(Spotted Hyena DNA:0.06731573078150245,Striped Hyena DNA:0.06731573078150245):0.02498447858868144)': 13}\n",
      "{'Sabertooth DNA [Smilodon]': 0.0809443307689833, 'Homotherium DNA': 0, 'American Cat DNA [Miracinonyx]': 0.033109727679629365, 'Spotted Hyena DNA': 0.06731573078150245, 'Striped Hyena DNA': 0.06731573078150245, 'Chinese Desert cat DNA': 0.05642472243719993, 'African wild cat DNA': 0.0053192381219836545, 'Felis Cat A DNA': 0.008008499953635244, 'Wild Cat DNA': 0.0053192381219836545, 'Cheetah DNA': 0.046824131157116464, 'Puma DNA': 0.033109727679629365, 'Tiger DNA': 0.05903300634370695, 'Lion DNA': 0.03892379763061633, 'Leopard DNA': 0.03892379763061633, 'Dog DNA': 0, 'Wolf DNA': 0, 'Black Bear DNA': 0.06948228399639578, 'Brown Bear DNA': 0.03503775249228635, 'Cave Bear DNA': 0.03503775249228635, '(African wild cat DNA:0.0053192381219836545,Wild Cat DNA:0.0053192381219836545)': 0.0026892618316515897, '((African wild cat DNA:0.0053192381219836545,Wild Cat DNA:0.0053192381219836545):0.0026892618316515897,Felis Cat A DNA:0.008008499953635244)': 0.04841622248356469, '(American Cat DNA [Miracinonyx]:0.033109727679629365,Puma DNA:0.033109727679629365)': 0.013714403477487098, '(Brown Bear DNA:0.03503775249228635,Cave Bear DNA:0.03503775249228635)': 0.03444453150410943, '(Lion DNA:0.03892379763061633,Leopard DNA:0.03892379763061633)': 0.020109208713090618, '((American Cat DNA [Miracinonyx]:0.033109727679629365,Puma DNA:0.033109727679629365):0.013714403477487098,Cheetah DNA:0.046824131157116464)': 0.016715925551677085, '(Chinese Desert cat DNA:0.05642472243719993,((African wild cat DNA:0.0053192381219836545,Wild Cat DNA:0.0053192381219836545):0.0026892618316515897,Felis Cat A DNA:0.008008499953635244):0.04841622248356469)': 0.007115334271593617, '(Tiger DNA:0.05903300634370695,(Lion DNA:0.03892379763061633,Leopard DNA:0.03892379763061633):0.020109208713090618)': 0.013343957674918153, '(((American Cat DNA [Miracinonyx]:0.033109727679629365,Puma DNA:0.033109727679629365):0.013714403477487098,Cheetah DNA:0.046824131157116464):0.016715925551677085,(Chinese Desert cat DNA:0.05642472243719993,((African wild cat DNA:0.0053192381219836545,Wild Cat DNA:0.0053192381219836545):0.0026892618316515897,Felis Cat A DNA:0.008008499953635244):0.04841622248356469):0.007115334271593617)': 0.008836907309831554, '(Spotted Hyena DNA:0.06731573078150245,Striped Hyena DNA:0.06731573078150245)': 0.02498447858868144, '(Black Bear DNA:0.06948228399639578,(Brown Bear DNA:0.03503775249228635,Cave Bear DNA:0.03503775249228635):0.03444453150410943)': 0.06948228399639578, '((((American Cat DNA [Miracinonyx]:0.033109727679629365,Puma DNA:0.033109727679629365):0.013714403477487098,Cheetah DNA:0.046824131157116464):0.016715925551677085,(Chinese Desert cat DNA:0.05642472243719993,((African wild cat DNA:0.0053192381219836545,Wild Cat DNA:0.0053192381219836545):0.0026892618316515897,Felis Cat A DNA:0.008008499953635244):0.04841622248356469):0.007115334271593617):0.008836907309831554,(Tiger DNA:0.05903300634370695,(Lion DNA:0.03892379763061633,Leopard DNA:0.03892379763061633):0.020109208713090618):0.013343957674918153)': 0.008567366750358199, '(Sabertooth DNA [Smilodon]:0.0809443307689833,((((American Cat DNA [Miracinonyx]:0.033109727679629365,Puma DNA:0.033109727679629365):0.013714403477487098,Cheetah DNA:0.046824131157116464):0.016715925551677085,(Chinese Desert cat DNA:0.05642472243719993,((African wild cat DNA:0.0053192381219836545,Wild Cat DNA:0.0053192381219836545):0.0026892618316515897,Felis Cat A DNA:0.008008499953635244):0.04841622248356469):0.007115334271593617):0.008836907309831554,(Tiger DNA:0.05903300634370695,(Lion DNA:0.03892379763061633,Leopard DNA:0.03892379763061633):0.020109208713090618):0.013343957674918153):0.008567366750358199)': 0.011355878601200589, '((Sabertooth DNA [Smilodon]:0.0809443307689833,((((American Cat DNA [Miracinonyx]:0.033109727679629365,Puma DNA:0.033109727679629365):0.013714403477487098,Cheetah DNA:0.046824131157116464):0.016715925551677085,(Chinese Desert cat DNA:0.05642472243719993,((African wild cat DNA:0.0053192381219836545,Wild Cat DNA:0.0053192381219836545):0.0026892618316515897,Felis Cat A DNA:0.008008499953635244):0.04841622248356469):0.007115334271593617):0.008836907309831554,(Tiger DNA:0.05903300634370695,(Lion DNA:0.03892379763061633,Leopard DNA:0.03892379763061633):0.020109208713090618):0.013343957674918153):0.008567366750358199):0.011355878601200589,(Spotted Hyena DNA:0.06731573078150245,Striped Hyena DNA:0.06731573078150245):0.02498447858868144)': 0.02498447858868144}\n",
      "{'Dog DNA': 1, 'Wolf DNA': 1, '(Black Bear DNA:0.06948228399639578,(Brown Bear DNA:0.03503775249228635,Cave Bear DNA:0.03503775249228635):0.03444453150410943)': 3, '(((Sabertooth DNA [Smilodon]:0.0809443307689833,((((American Cat DNA [Miracinonyx]:0.033109727679629365,Puma DNA:0.033109727679629365):0.013714403477487098,Cheetah DNA:0.046824131157116464):0.016715925551677085,(Chinese Desert cat DNA:0.05642472243719993,((African wild cat DNA:0.0053192381219836545,Wild Cat DNA:0.0053192381219836545):0.0026892618316515897,Felis Cat A DNA:0.008008499953635244):0.04841622248356469):0.007115334271593617):0.008836907309831554,(Tiger DNA:0.05903300634370695,(Lion DNA:0.03892379763061633,Leopard DNA:0.03892379763061633):0.020109208713090618):0.013343957674918153):0.008567366750358199):0.011355878601200589,(Spotted Hyena DNA:0.06731573078150245,Striped Hyena DNA:0.06731573078150245):0.02498447858868144):0.02016345725636584,Homotherium DNA:0.11246366662654973)': 14}\n",
      "{'Sabertooth DNA [Smilodon]': 0.0809443307689833, 'Homotherium DNA': 0.11246366662654973, 'American Cat DNA [Miracinonyx]': 0.033109727679629365, 'Spotted Hyena DNA': 0.06731573078150245, 'Striped Hyena DNA': 0.06731573078150245, 'Chinese Desert cat DNA': 0.05642472243719993, 'African wild cat DNA': 0.0053192381219836545, 'Felis Cat A DNA': 0.008008499953635244, 'Wild Cat DNA': 0.0053192381219836545, 'Cheetah DNA': 0.046824131157116464, 'Puma DNA': 0.033109727679629365, 'Tiger DNA': 0.05903300634370695, 'Lion DNA': 0.03892379763061633, 'Leopard DNA': 0.03892379763061633, 'Dog DNA': 0, 'Wolf DNA': 0, 'Black Bear DNA': 0.06948228399639578, 'Brown Bear DNA': 0.03503775249228635, 'Cave Bear DNA': 0.03503775249228635, '(African wild cat DNA:0.0053192381219836545,Wild Cat DNA:0.0053192381219836545)': 0.0026892618316515897, '((African wild cat DNA:0.0053192381219836545,Wild Cat DNA:0.0053192381219836545):0.0026892618316515897,Felis Cat A DNA:0.008008499953635244)': 0.04841622248356469, '(American Cat DNA [Miracinonyx]:0.033109727679629365,Puma DNA:0.033109727679629365)': 0.013714403477487098, '(Brown Bear DNA:0.03503775249228635,Cave Bear DNA:0.03503775249228635)': 0.03444453150410943, '(Lion DNA:0.03892379763061633,Leopard DNA:0.03892379763061633)': 0.020109208713090618, '((American Cat DNA [Miracinonyx]:0.033109727679629365,Puma DNA:0.033109727679629365):0.013714403477487098,Cheetah DNA:0.046824131157116464)': 0.016715925551677085, '(Chinese Desert cat DNA:0.05642472243719993,((African wild cat DNA:0.0053192381219836545,Wild Cat DNA:0.0053192381219836545):0.0026892618316515897,Felis Cat A DNA:0.008008499953635244):0.04841622248356469)': 0.007115334271593617, '(Tiger DNA:0.05903300634370695,(Lion DNA:0.03892379763061633,Leopard DNA:0.03892379763061633):0.020109208713090618)': 0.013343957674918153, '(((American Cat DNA [Miracinonyx]:0.033109727679629365,Puma DNA:0.033109727679629365):0.013714403477487098,Cheetah DNA:0.046824131157116464):0.016715925551677085,(Chinese Desert cat DNA:0.05642472243719993,((African wild cat DNA:0.0053192381219836545,Wild Cat DNA:0.0053192381219836545):0.0026892618316515897,Felis Cat A DNA:0.008008499953635244):0.04841622248356469):0.007115334271593617)': 0.008836907309831554, '(Spotted Hyena DNA:0.06731573078150245,Striped Hyena DNA:0.06731573078150245)': 0.02498447858868144, '(Black Bear DNA:0.06948228399639578,(Brown Bear DNA:0.03503775249228635,Cave Bear DNA:0.03503775249228635):0.03444453150410943)': 0.06948228399639578, '((((American Cat DNA [Miracinonyx]:0.033109727679629365,Puma DNA:0.033109727679629365):0.013714403477487098,Cheetah DNA:0.046824131157116464):0.016715925551677085,(Chinese Desert cat DNA:0.05642472243719993,((African wild cat DNA:0.0053192381219836545,Wild Cat DNA:0.0053192381219836545):0.0026892618316515897,Felis Cat A DNA:0.008008499953635244):0.04841622248356469):0.007115334271593617):0.008836907309831554,(Tiger DNA:0.05903300634370695,(Lion DNA:0.03892379763061633,Leopard DNA:0.03892379763061633):0.020109208713090618):0.013343957674918153)': 0.008567366750358199, '(Sabertooth DNA [Smilodon]:0.0809443307689833,((((American Cat DNA [Miracinonyx]:0.033109727679629365,Puma DNA:0.033109727679629365):0.013714403477487098,Cheetah DNA:0.046824131157116464):0.016715925551677085,(Chinese Desert cat DNA:0.05642472243719993,((African wild cat DNA:0.0053192381219836545,Wild Cat DNA:0.0053192381219836545):0.0026892618316515897,Felis Cat A DNA:0.008008499953635244):0.04841622248356469):0.007115334271593617):0.008836907309831554,(Tiger DNA:0.05903300634370695,(Lion DNA:0.03892379763061633,Leopard DNA:0.03892379763061633):0.020109208713090618):0.013343957674918153):0.008567366750358199)': 0.011355878601200589, '((Sabertooth DNA [Smilodon]:0.0809443307689833,((((American Cat DNA [Miracinonyx]:0.033109727679629365,Puma DNA:0.033109727679629365):0.013714403477487098,Cheetah DNA:0.046824131157116464):0.016715925551677085,(Chinese Desert cat DNA:0.05642472243719993,((African wild cat DNA:0.0053192381219836545,Wild Cat DNA:0.0053192381219836545):0.0026892618316515897,Felis Cat A DNA:0.008008499953635244):0.04841622248356469):0.007115334271593617):0.008836907309831554,(Tiger DNA:0.05903300634370695,(Lion DNA:0.03892379763061633,Leopard DNA:0.03892379763061633):0.020109208713090618):0.013343957674918153):0.008567366750358199):0.011355878601200589,(Spotted Hyena DNA:0.06731573078150245,Striped Hyena DNA:0.06731573078150245):0.02498447858868144)': 0.02016345725636584, '(((Sabertooth DNA [Smilodon]:0.0809443307689833,((((American Cat DNA [Miracinonyx]:0.033109727679629365,Puma DNA:0.033109727679629365):0.013714403477487098,Cheetah DNA:0.046824131157116464):0.016715925551677085,(Chinese Desert cat DNA:0.05642472243719993,((African wild cat DNA:0.0053192381219836545,Wild Cat DNA:0.0053192381219836545):0.0026892618316515897,Felis Cat A DNA:0.008008499953635244):0.04841622248356469):0.007115334271593617):0.008836907309831554,(Tiger DNA:0.05903300634370695,(Lion DNA:0.03892379763061633,Leopard DNA:0.03892379763061633):0.020109208713090618):0.013343957674918153):0.008567366750358199):0.011355878601200589,(Spotted Hyena DNA:0.06731573078150245,Striped Hyena DNA:0.06731573078150245):0.02498447858868144):0.02016345725636584,Homotherium DNA:0.11246366662654973)': 0.11246366662654973}\n",
      "{'Wolf DNA': 1, '(((Sabertooth DNA [Smilodon]:0.0809443307689833,((((American Cat DNA [Miracinonyx]:0.033109727679629365,Puma DNA:0.033109727679629365):0.013714403477487098,Cheetah DNA:0.046824131157116464):0.016715925551677085,(Chinese Desert cat DNA:0.05642472243719993,((African wild cat DNA:0.0053192381219836545,Wild Cat DNA:0.0053192381219836545):0.0026892618316515897,Felis Cat A DNA:0.008008499953635244):0.04841622248356469):0.007115334271593617):0.008836907309831554,(Tiger DNA:0.05903300634370695,(Lion DNA:0.03892379763061633,Leopard DNA:0.03892379763061633):0.020109208713090618):0.013343957674918153):0.008567366750358199):0.011355878601200589,(Spotted Hyena DNA:0.06731573078150245,Striped Hyena DNA:0.06731573078150245):0.02498447858868144):0.02016345725636584,Homotherium DNA:0.11246366662654973)': 14, '(Dog DNA:0.1126066648507961,(Black Bear DNA:0.06948228399639578,(Brown Bear DNA:0.03503775249228635,Cave Bear DNA:0.03503775249228635):0.03444453150410943):0.04312438085440032)': 4}\n",
      "{'Sabertooth DNA [Smilodon]': 0.0809443307689833, 'Homotherium DNA': 0.11246366662654973, 'American Cat DNA [Miracinonyx]': 0.033109727679629365, 'Spotted Hyena DNA': 0.06731573078150245, 'Striped Hyena DNA': 0.06731573078150245, 'Chinese Desert cat DNA': 0.05642472243719993, 'African wild cat DNA': 0.0053192381219836545, 'Felis Cat A DNA': 0.008008499953635244, 'Wild Cat DNA': 0.0053192381219836545, 'Cheetah DNA': 0.046824131157116464, 'Puma DNA': 0.033109727679629365, 'Tiger DNA': 0.05903300634370695, 'Lion DNA': 0.03892379763061633, 'Leopard DNA': 0.03892379763061633, 'Dog DNA': 0.1126066648507961, 'Wolf DNA': 0, 'Black Bear DNA': 0.06948228399639578, 'Brown Bear DNA': 0.03503775249228635, 'Cave Bear DNA': 0.03503775249228635, '(African wild cat DNA:0.0053192381219836545,Wild Cat DNA:0.0053192381219836545)': 0.0026892618316515897, '((African wild cat DNA:0.0053192381219836545,Wild Cat DNA:0.0053192381219836545):0.0026892618316515897,Felis Cat A DNA:0.008008499953635244)': 0.04841622248356469, '(American Cat DNA [Miracinonyx]:0.033109727679629365,Puma DNA:0.033109727679629365)': 0.013714403477487098, '(Brown Bear DNA:0.03503775249228635,Cave Bear DNA:0.03503775249228635)': 0.03444453150410943, '(Lion DNA:0.03892379763061633,Leopard DNA:0.03892379763061633)': 0.020109208713090618, '((American Cat DNA [Miracinonyx]:0.033109727679629365,Puma DNA:0.033109727679629365):0.013714403477487098,Cheetah DNA:0.046824131157116464)': 0.016715925551677085, '(Chinese Desert cat DNA:0.05642472243719993,((African wild cat DNA:0.0053192381219836545,Wild Cat DNA:0.0053192381219836545):0.0026892618316515897,Felis Cat A DNA:0.008008499953635244):0.04841622248356469)': 0.007115334271593617, '(Tiger DNA:0.05903300634370695,(Lion DNA:0.03892379763061633,Leopard DNA:0.03892379763061633):0.020109208713090618)': 0.013343957674918153, '(((American Cat DNA [Miracinonyx]:0.033109727679629365,Puma DNA:0.033109727679629365):0.013714403477487098,Cheetah DNA:0.046824131157116464):0.016715925551677085,(Chinese Desert cat DNA:0.05642472243719993,((African wild cat DNA:0.0053192381219836545,Wild Cat DNA:0.0053192381219836545):0.0026892618316515897,Felis Cat A DNA:0.008008499953635244):0.04841622248356469):0.007115334271593617)': 0.008836907309831554, '(Spotted Hyena DNA:0.06731573078150245,Striped Hyena DNA:0.06731573078150245)': 0.02498447858868144, '(Black Bear DNA:0.06948228399639578,(Brown Bear DNA:0.03503775249228635,Cave Bear DNA:0.03503775249228635):0.03444453150410943)': 0.04312438085440032, '((((American Cat DNA [Miracinonyx]:0.033109727679629365,Puma DNA:0.033109727679629365):0.013714403477487098,Cheetah DNA:0.046824131157116464):0.016715925551677085,(Chinese Desert cat DNA:0.05642472243719993,((African wild cat DNA:0.0053192381219836545,Wild Cat DNA:0.0053192381219836545):0.0026892618316515897,Felis Cat A DNA:0.008008499953635244):0.04841622248356469):0.007115334271593617):0.008836907309831554,(Tiger DNA:0.05903300634370695,(Lion DNA:0.03892379763061633,Leopard DNA:0.03892379763061633):0.020109208713090618):0.013343957674918153)': 0.008567366750358199, '(Sabertooth DNA [Smilodon]:0.0809443307689833,((((American Cat DNA [Miracinonyx]:0.033109727679629365,Puma DNA:0.033109727679629365):0.013714403477487098,Cheetah DNA:0.046824131157116464):0.016715925551677085,(Chinese Desert cat DNA:0.05642472243719993,((African wild cat DNA:0.0053192381219836545,Wild Cat DNA:0.0053192381219836545):0.0026892618316515897,Felis Cat A DNA:0.008008499953635244):0.04841622248356469):0.007115334271593617):0.008836907309831554,(Tiger DNA:0.05903300634370695,(Lion DNA:0.03892379763061633,Leopard DNA:0.03892379763061633):0.020109208713090618):0.013343957674918153):0.008567366750358199)': 0.011355878601200589, '((Sabertooth DNA [Smilodon]:0.0809443307689833,((((American Cat DNA [Miracinonyx]:0.033109727679629365,Puma DNA:0.033109727679629365):0.013714403477487098,Cheetah DNA:0.046824131157116464):0.016715925551677085,(Chinese Desert cat DNA:0.05642472243719993,((African wild cat DNA:0.0053192381219836545,Wild Cat DNA:0.0053192381219836545):0.0026892618316515897,Felis Cat A DNA:0.008008499953635244):0.04841622248356469):0.007115334271593617):0.008836907309831554,(Tiger DNA:0.05903300634370695,(Lion DNA:0.03892379763061633,Leopard DNA:0.03892379763061633):0.020109208713090618):0.013343957674918153):0.008567366750358199):0.011355878601200589,(Spotted Hyena DNA:0.06731573078150245,Striped Hyena DNA:0.06731573078150245):0.02498447858868144)': 0.02016345725636584, '(((Sabertooth DNA [Smilodon]:0.0809443307689833,((((American Cat DNA [Miracinonyx]:0.033109727679629365,Puma DNA:0.033109727679629365):0.013714403477487098,Cheetah DNA:0.046824131157116464):0.016715925551677085,(Chinese Desert cat DNA:0.05642472243719993,((African wild cat DNA:0.0053192381219836545,Wild Cat DNA:0.0053192381219836545):0.0026892618316515897,Felis Cat A DNA:0.008008499953635244):0.04841622248356469):0.007115334271593617):0.008836907309831554,(Tiger DNA:0.05903300634370695,(Lion DNA:0.03892379763061633,Leopard DNA:0.03892379763061633):0.020109208713090618):0.013343957674918153):0.008567366750358199):0.011355878601200589,(Spotted Hyena DNA:0.06731573078150245,Striped Hyena DNA:0.06731573078150245):0.02498447858868144):0.02016345725636584,Homotherium DNA:0.11246366662654973)': 0.11246366662654973, '(Dog DNA:0.1126066648507961,(Black Bear DNA:0.06948228399639578,(Brown Bear DNA:0.03503775249228635,Cave Bear DNA:0.03503775249228635):0.03444453150410943):0.04312438085440032)': 0.1126066648507961}\n",
      "{'(((Sabertooth DNA [Smilodon]:0.0809443307689833,((((American Cat DNA [Miracinonyx]:0.033109727679629365,Puma DNA:0.033109727679629365):0.013714403477487098,Cheetah DNA:0.046824131157116464):0.016715925551677085,(Chinese Desert cat DNA:0.05642472243719993,((African wild cat DNA:0.0053192381219836545,Wild Cat DNA:0.0053192381219836545):0.0026892618316515897,Felis Cat A DNA:0.008008499953635244):0.04841622248356469):0.007115334271593617):0.008836907309831554,(Tiger DNA:0.05903300634370695,(Lion DNA:0.03892379763061633,Leopard DNA:0.03892379763061633):0.020109208713090618):0.013343957674918153):0.008567366750358199):0.011355878601200589,(Spotted Hyena DNA:0.06731573078150245,Striped Hyena DNA:0.06731573078150245):0.02498447858868144):0.02016345725636584,Homotherium DNA:0.11246366662654973)': 14, '((Dog DNA:0.1126066648507961,(Black Bear DNA:0.06948228399639578,(Brown Bear DNA:0.03503775249228635,Cave Bear DNA:0.03503775249228635):0.03444453150410943):0.04312438085440032):-0.037535554950265365,Wolf DNA:0.07507110990053073)': 5}\n",
      "{'Sabertooth DNA [Smilodon]': 0.0809443307689833, 'Homotherium DNA': 0.11246366662654973, 'American Cat DNA [Miracinonyx]': 0.033109727679629365, 'Spotted Hyena DNA': 0.06731573078150245, 'Striped Hyena DNA': 0.06731573078150245, 'Chinese Desert cat DNA': 0.05642472243719993, 'African wild cat DNA': 0.0053192381219836545, 'Felis Cat A DNA': 0.008008499953635244, 'Wild Cat DNA': 0.0053192381219836545, 'Cheetah DNA': 0.046824131157116464, 'Puma DNA': 0.033109727679629365, 'Tiger DNA': 0.05903300634370695, 'Lion DNA': 0.03892379763061633, 'Leopard DNA': 0.03892379763061633, 'Dog DNA': 0.1126066648507961, 'Wolf DNA': 0.07507110990053073, 'Black Bear DNA': 0.06948228399639578, 'Brown Bear DNA': 0.03503775249228635, 'Cave Bear DNA': 0.03503775249228635, '(African wild cat DNA:0.0053192381219836545,Wild Cat DNA:0.0053192381219836545)': 0.0026892618316515897, '((African wild cat DNA:0.0053192381219836545,Wild Cat DNA:0.0053192381219836545):0.0026892618316515897,Felis Cat A DNA:0.008008499953635244)': 0.04841622248356469, '(American Cat DNA [Miracinonyx]:0.033109727679629365,Puma DNA:0.033109727679629365)': 0.013714403477487098, '(Brown Bear DNA:0.03503775249228635,Cave Bear DNA:0.03503775249228635)': 0.03444453150410943, '(Lion DNA:0.03892379763061633,Leopard DNA:0.03892379763061633)': 0.020109208713090618, '((American Cat DNA [Miracinonyx]:0.033109727679629365,Puma DNA:0.033109727679629365):0.013714403477487098,Cheetah DNA:0.046824131157116464)': 0.016715925551677085, '(Chinese Desert cat DNA:0.05642472243719993,((African wild cat DNA:0.0053192381219836545,Wild Cat DNA:0.0053192381219836545):0.0026892618316515897,Felis Cat A DNA:0.008008499953635244):0.04841622248356469)': 0.007115334271593617, '(Tiger DNA:0.05903300634370695,(Lion DNA:0.03892379763061633,Leopard DNA:0.03892379763061633):0.020109208713090618)': 0.013343957674918153, '(((American Cat DNA [Miracinonyx]:0.033109727679629365,Puma DNA:0.033109727679629365):0.013714403477487098,Cheetah DNA:0.046824131157116464):0.016715925551677085,(Chinese Desert cat DNA:0.05642472243719993,((African wild cat DNA:0.0053192381219836545,Wild Cat DNA:0.0053192381219836545):0.0026892618316515897,Felis Cat A DNA:0.008008499953635244):0.04841622248356469):0.007115334271593617)': 0.008836907309831554, '(Spotted Hyena DNA:0.06731573078150245,Striped Hyena DNA:0.06731573078150245)': 0.02498447858868144, '(Black Bear DNA:0.06948228399639578,(Brown Bear DNA:0.03503775249228635,Cave Bear DNA:0.03503775249228635):0.03444453150410943)': 0.04312438085440032, '((((American Cat DNA [Miracinonyx]:0.033109727679629365,Puma DNA:0.033109727679629365):0.013714403477487098,Cheetah DNA:0.046824131157116464):0.016715925551677085,(Chinese Desert cat DNA:0.05642472243719993,((African wild cat DNA:0.0053192381219836545,Wild Cat DNA:0.0053192381219836545):0.0026892618316515897,Felis Cat A DNA:0.008008499953635244):0.04841622248356469):0.007115334271593617):0.008836907309831554,(Tiger DNA:0.05903300634370695,(Lion DNA:0.03892379763061633,Leopard DNA:0.03892379763061633):0.020109208713090618):0.013343957674918153)': 0.008567366750358199, '(Sabertooth DNA [Smilodon]:0.0809443307689833,((((American Cat DNA [Miracinonyx]:0.033109727679629365,Puma DNA:0.033109727679629365):0.013714403477487098,Cheetah DNA:0.046824131157116464):0.016715925551677085,(Chinese Desert cat DNA:0.05642472243719993,((African wild cat DNA:0.0053192381219836545,Wild Cat DNA:0.0053192381219836545):0.0026892618316515897,Felis Cat A DNA:0.008008499953635244):0.04841622248356469):0.007115334271593617):0.008836907309831554,(Tiger DNA:0.05903300634370695,(Lion DNA:0.03892379763061633,Leopard DNA:0.03892379763061633):0.020109208713090618):0.013343957674918153):0.008567366750358199)': 0.011355878601200589, '((Sabertooth DNA [Smilodon]:0.0809443307689833,((((American Cat DNA [Miracinonyx]:0.033109727679629365,Puma DNA:0.033109727679629365):0.013714403477487098,Cheetah DNA:0.046824131157116464):0.016715925551677085,(Chinese Desert cat DNA:0.05642472243719993,((African wild cat DNA:0.0053192381219836545,Wild Cat DNA:0.0053192381219836545):0.0026892618316515897,Felis Cat A DNA:0.008008499953635244):0.04841622248356469):0.007115334271593617):0.008836907309831554,(Tiger DNA:0.05903300634370695,(Lion DNA:0.03892379763061633,Leopard DNA:0.03892379763061633):0.020109208713090618):0.013343957674918153):0.008567366750358199):0.011355878601200589,(Spotted Hyena DNA:0.06731573078150245,Striped Hyena DNA:0.06731573078150245):0.02498447858868144)': 0.02016345725636584, '(((Sabertooth DNA [Smilodon]:0.0809443307689833,((((American Cat DNA [Miracinonyx]:0.033109727679629365,Puma DNA:0.033109727679629365):0.013714403477487098,Cheetah DNA:0.046824131157116464):0.016715925551677085,(Chinese Desert cat DNA:0.05642472243719993,((African wild cat DNA:0.0053192381219836545,Wild Cat DNA:0.0053192381219836545):0.0026892618316515897,Felis Cat A DNA:0.008008499953635244):0.04841622248356469):0.007115334271593617):0.008836907309831554,(Tiger DNA:0.05903300634370695,(Lion DNA:0.03892379763061633,Leopard DNA:0.03892379763061633):0.020109208713090618):0.013343957674918153):0.008567366750358199):0.011355878601200589,(Spotted Hyena DNA:0.06731573078150245,Striped Hyena DNA:0.06731573078150245):0.02498447858868144):0.02016345725636584,Homotherium DNA:0.11246366662654973)': 0.11246366662654973, '(Dog DNA:0.1126066648507961,(Black Bear DNA:0.06948228399639578,(Brown Bear DNA:0.03503775249228635,Cave Bear DNA:0.03503775249228635):0.03444453150410943):0.04312438085440032)': -0.037535554950265365, '((Dog DNA:0.1126066648507961,(Black Bear DNA:0.06948228399639578,(Brown Bear DNA:0.03503775249228635,Cave Bear DNA:0.03503775249228635):0.03444453150410943):0.04312438085440032):-0.037535554950265365,Wolf DNA:0.07507110990053073)': 0.07507110990053073}\n",
      "{'((((Sabertooth DNA [Smilodon]:0.0809443307689833,((((American Cat DNA [Miracinonyx]:0.033109727679629365,Puma DNA:0.033109727679629365):0.013714403477487098,Cheetah DNA:0.046824131157116464):0.016715925551677085,(Chinese Desert cat DNA:0.05642472243719993,((African wild cat DNA:0.0053192381219836545,Wild Cat DNA:0.0053192381219836545):0.0026892618316515897,Felis Cat A DNA:0.008008499953635244):0.04841622248356469):0.007115334271593617):0.008836907309831554,(Tiger DNA:0.05903300634370695,(Lion DNA:0.03892379763061633,Leopard DNA:0.03892379763061633):0.020109208713090618):0.013343957674918153):0.008567366750358199):0.011355878601200589,(Spotted Hyena DNA:0.06731573078150245,Striped Hyena DNA:0.06731573078150245):0.02498447858868144):0.02016345725636584,Homotherium DNA:0.11246366662654973):0.015450301265781882,((Dog DNA:0.1126066648507961,(Black Bear DNA:0.06948228399639578,(Brown Bear DNA:0.03503775249228635,Cave Bear DNA:0.03503775249228635):0.03444453150410943):0.04312438085440032):-0.037535554950265365,Wolf DNA:0.07507110990053073):0.052842857991800884)': 19}\n"
     ]
    }
   ],
   "source": [
    "#=========================execution sur les données=============================\n",
    "projet = upgma(matrice,uto) "
   ]
  },
  {
   "cell_type": "code",
   "execution_count": 38,
   "metadata": {},
   "outputs": [],
   "source": [
    "arbre = projet[0]+\";\" #arbre final en format newick"
   ]
  },
  {
   "cell_type": "code",
   "execution_count": 39,
   "metadata": {},
   "outputs": [
    {
     "data": {
      "image/png": "[encoded data removed]",
      "text/plain": [
       "<IPython.core.display.Image object>"
      ]
     },
     "execution_count": 39,
     "metadata": {},
     "output_type": "execute_result"
    }
   ],
   "source": [
    "# À remplir\n",
    "t = Tree(arbre)\n",
    "ts = TreeStyle()\n",
    "ts.show_branch_length = True\n",
    "t.render('%%inline', w=183, units='mm', tree_style=ts)"
   ]
  },
  {
   "cell_type": "markdown",
   "metadata": {},
   "source": [
    "**Exercice 9 :** Quelles sont les hypothèses faites par UPGMA ? Semblent-elles respectées dans le cas présent ?"
   ]
  },
  {
   "cell_type": "markdown",
   "metadata": {},
   "source": [
    "Réponse : UPGMA fait l'hypothèse que toutes les séquences évoluent à la même vitesse, les distances évolutives entre chaque feuille et la racine sont égales, la racine est placée au point de l’arbre équidistant de toutes les feuilles.\n",
    "\n",
    "Ces hypothèse ne semblent pas être respectées comme les distances évolutives entre chaque feuille et la racine ne sont pas égale, les\n",
    "séquences ne semblent pas évoluer à la même vitesse"
   ]
  },
  {
   "cell_type": "markdown",
   "metadata": {},
   "source": [
    "----\n",
    "## Enracinement de l'arbre\n",
    "\n",
    "Après avoir utilisé UPGMA pour réaliser votre arbre, l'enracinement s'est normalement fait au poids moyen. \n",
    "\n",
    "**Exercice 10 :** Quelle autre méthode est-il possible d'utiliser pour enraciner un arbre ? Pouvez-vous l'utilisez ici ? Si oui, afficher le nouvel arbre."
   ]
  },
  {
   "cell_type": "markdown",
   "metadata": {},
   "source": [
    "Réponse : "
   ]
  },
  {
   "cell_type": "markdown",
   "metadata": {},
   "source": [
    "Une autre méthode est l'enracinement avec groupe exterieur. Pour cela, il faut un groupe de séquences homologues aux séquences analysées mais dont on sait a priori\n",
    "qu’elles sont extérieures aux séquences analysées . \n",
    "\n",
    "Un nouveau noeud est crée reliant les séquences étudiées au groupe extérieur. On peut définir ce groupe exterieur comme étant composé de Wolf DNA, Dog DNA et des différents Bear DNA"
   ]
  },
  {
   "cell_type": "markdown",
   "metadata": {},
   "source": [
    "----\n",
    "## Neighbor-joining\n",
    "\n",
    "Le neighbor-joining est un autre algorithme permettant de calculer un arbre phylogénique à partir d'une matrice de distance. Il a l'avantage de faire moins d'hypothèse qu'UPGMA sur les données (elles ne sont plus forcément ultramétrique) et il donne donc de meilleurs arbres dans presque tout les cas. Vous trouverez un example d'application de cet algorithme [ici](http://www.evolution-textbook.org/content/free/tables/Ch_27/T11_EVOW_Ch27.pdf).\n",
    "\n",
    "**Exercice 11 :** Implémenter l'algorithme du neighbor-joining, appliquer-le aux données puis enraciner l'arbre."
   ]
  },
  {
   "cell_type": "code",
   "execution_count": 40,
   "metadata": {},
   "outputs": [],
   "source": [
    "#Step 1\n",
    "def calculS(M,nom):\n",
    "    res = dict()\n",
    "    for i in range(len(nom)):\n",
    "        somme = 0\n",
    "        for j in range(np.shape(M)[0]):\n",
    "            somme += M[i][j]\n",
    "        res[nom[i]] = somme/(len(nom)-2)\n",
    "    return res\n",
    "\n",
    "#Step 2\n",
    "def smallestM(M,nom, S):\n",
    "    res = np.zeros((len(S),len(S)))\n",
    "    for i in range(len(S)):\n",
    "        for j in range(len(S)):\n",
    "            if j == i:\n",
    "                res[i][j]= 0\n",
    "            else:\n",
    "                res[i][j]= M[i][j] - S[nom[i]] - S[nom[j]]\n",
    "    return res\n",
    "\n",
    "#renvoie les indices du min de la matrice\n",
    "def paireMin(M):\n",
    "    min = M[0][0]\n",
    "    idx = -1\n",
    "    idy = -1 \n",
    "    for i in range(np.shape(M)[0]):\n",
    "        for j in range(np.shape(M)[1]):\n",
    "            if M[i][j] < min:\n",
    "                min = M[i][j]\n",
    "                idx = i\n",
    "                idy = j\n",
    "    return idx,idy\n",
    "\n",
    "#Step 3\n",
    "def joinPair(M,nom,S,idx,idy):\n",
    "    S1= (M[idx][idy]/2) + (S[nom[idx]] - S[nom[idy]])/2\n",
    "    S2= (M[idx][idy]/2) + (S[nom[idy]] - S[nom[idx]])/2\n",
    "    res = '(' + nom[idx] + ':' + str(S1) + ',' + nom[idy] + ':' + str(S2) + ')'\n",
    "    return res\n",
    "\n",
    "#Step 3 pour le dernier cycle\n",
    "def joinLast(M,nom,S,idx,idy):\n",
    "    S1= (M[idx][idy])/2\n",
    "    S2= (M[idx][idy])/2\n",
    "    res = '(' + nom[idx] + ':' + str(S1) + ',' + nom[idy] + ':' + str(S2) + ')'\n",
    "    return res\n",
    "\n",
    "#mise a jour de la matrice avec le nouveau groupe\n",
    "def majMatrice(M,nom,idx,idy):\n",
    "    res = np.copy(M)\n",
    "    for i in range(np.shape(res)[0]):\n",
    "        if i == idx: \n",
    "            res[idx][i] = 0\n",
    "            res[i][idx] = 0\n",
    "        elif i == idy: \n",
    "            res[idy][i] = 0\n",
    "            res[i][idy] = 0\n",
    "        else:\n",
    "            res[idx][i] = (M[idx][i] + M[idy][i] - M[idx][idy])/2\n",
    "            res[i][idx] = (M[i][idx] + M[i][idy] - M[idx][idy])/2\n",
    "    \n",
    "    res = np.delete(res,idy,0)\n",
    "    res = np.delete(res,idy,1)\n",
    "    nom.pop(idy)\n",
    "    return res\n",
    "\n",
    "#fonction principale\n",
    "def neighbor(M,nom):\n",
    "    res = np.copy(M)\n",
    "    idx = -1\n",
    "    idy = -1\n",
    "    while(np.shape(res)[0]-2>0):\n",
    "        S = calculS(res,nom)\n",
    "        small = smallestM(res,nom,S)\n",
    "        idx,idy = paireMin(small)\n",
    "        nom[idx] = joinPair(res,nom,S,idx,idy)\n",
    "        res = majMatrice(res,nom,idx,idy)\n",
    "        print(S)\n",
    "    \n",
    "    nom[0] = joinLast(res,nom,S,0,1)\n",
    "    \n",
    "    res = majMatrice(res,nom,0,1)\n",
    "    print(S)\n",
    "    return nom"
   ]
  },
  {
   "cell_type": "code",
   "execution_count": 41,
   "metadata": {},
   "outputs": [
    {
     "name": "stdout",
     "output_type": "stream",
     "text": [
      "{'A': 7.5, 'B': 10.5, 'C': 8.0, 'D': 9.5, 'E': 8.5, 'F': 11.0}\n",
      "{'(A:1.0,B:4.0)': 7.0, 'C': 8.0, 'D': 9.0, 'E': 8.0, 'F': 10.666666666666666}\n",
      "{'((A:1.0,B:4.0):1.0,C:2.0)': 7.5, 'D': 9.5, 'E': 8.5, 'F': 11.5}\n",
      "{'(((A:1.0,B:4.0):1.0,C:2.0):1.0,F:5.0)': 7.0, 'D': 9.0, 'E': 8.0}\n",
      "{'(((A:1.0,B:4.0):1.0,C:2.0):1.0,F:5.0)': 7.0, 'D': 9.0, 'E': 8.0}\n"
     ]
    }
   ],
   "source": [
    "#=========================test=============================\n",
    "D = [[0,5,4,7,6,8],\n",
    "    [5,0,7,10,9,11],\n",
    "    [4,7,0,7,6,8],\n",
    "    [7,10,7,0,5,9],\n",
    "    [6,9,6,5,0,8],\n",
    "    [8,11,8,9,8,0]]\n",
    "nom = ['A','B','C','D','E','F']\n",
    "\n",
    "exemple = neighbor(D,nom)[0] + \";\""
   ]
  },
  {
   "cell_type": "code",
   "execution_count": 42,
   "metadata": {},
   "outputs": [
    {
     "data": {
      "image/png": "[encoded data removed]",
      "text/plain": [
       "<IPython.core.display.Image object>"
      ]
     },
     "execution_count": 42,
     "metadata": {},
     "output_type": "execute_result"
    }
   ],
   "source": [
    "t = Tree(exemple)\n",
    "ts = TreeStyle()\n",
    "ts.show_branch_length = True\n",
    "t.render('%%inline', w=183, units='mm', tree_style=ts)"
   ]
  },
  {
   "cell_type": "code",
   "execution_count": 43,
   "metadata": {},
   "outputs": [],
   "source": [
    "uto = []\n",
    "for key, value in data.items():\n",
    "    uto.append(key)\n",
    "for i in range(len(uto)):\n",
    "    uto[i] = uto[i].replace('(', '[')\n",
    "    uto[i] = uto[i].replace(')', ']')"
   ]
  },
  {
   "cell_type": "code",
   "execution_count": 44,
   "metadata": {},
   "outputs": [
    {
     "data": {
      "text/plain": [
       "['Sabertooth DNA [Smilodon]',\n",
       " 'Homotherium DNA',\n",
       " 'American Cat DNA [Miracinonyx]',\n",
       " 'Spotted Hyena DNA',\n",
       " 'Striped Hyena DNA',\n",
       " 'Chinese Desert cat DNA',\n",
       " 'African wild cat DNA',\n",
       " 'Felis Cat A DNA',\n",
       " 'Wild Cat DNA',\n",
       " 'Cheetah DNA',\n",
       " 'Puma DNA',\n",
       " 'Tiger DNA',\n",
       " 'Lion DNA',\n",
       " 'Leopard DNA',\n",
       " 'Dog DNA',\n",
       " 'Wolf DNA',\n",
       " 'Black Bear DNA',\n",
       " 'Brown Bear DNA',\n",
       " 'Cave Bear DNA']"
      ]
     },
     "execution_count": 44,
     "metadata": {},
     "output_type": "execute_result"
    }
   ],
   "source": [
    "uto"
   ]
  },
  {
   "cell_type": "code",
   "execution_count": 45,
   "metadata": {},
   "outputs": [
    {
     "name": "stdout",
     "output_type": "stream",
     "text": [
      "{'Sabertooth DNA [Smilodon]': 0.20199078232274262, 'Homotherium DNA': 0.2568527474596095, 'American Cat DNA [Miracinonyx]': 0.1822312863181933, 'Spotted Hyena DNA': 0.21328646763489054, 'Striped Hyena DNA': 0.22213387851027555, 'Chinese Desert cat DNA': 0.181182869802826, 'African wild cat DNA': 0.1785987075048627, 'Felis Cat A DNA': 0.1809349357539284, 'Wild Cat DNA': 0.18025707362424054, 'Cheetah DNA': 0.18761196325646057, 'Puma DNA': 0.19317208585912282, 'Tiger DNA': 0.18735112003092505, 'Lion DNA': 0.19578853366019802, 'Leopard DNA': 0.19772936944154892, 'Dog DNA': 0.24861370716144748, 'Wolf DNA': 0.24861370716144748, 'Black Bear DNA': 0.24776298742506722, 'Brown Bear DNA': 0.26951153963013935, 'Cave Bear DNA': 0.24845454946359288}\n",
      "{'Sabertooth DNA [Smilodon]': 0.19879903536495394, 'Homotherium DNA': 0.25487986808417024, 'American Cat DNA [Miracinonyx]': 0.17749516379615066, 'Spotted Hyena DNA': 0.2108007010091111, 'Striped Hyena DNA': 0.21958020506030046, 'Chinese Desert cat DNA': 0.1766906283125425, 'African wild cat DNA': 0.17394495587095654, 'Felis Cat A DNA': 0.17764479931074167, 'Wild Cat DNA': 0.1760143480233967, 'Cheetah DNA': 0.18443769304794974, 'Puma DNA': 0.1888083003684507, 'Tiger DNA': 0.18262352417599056, 'Lion DNA': 0.19220914616100032, 'Leopard DNA': 0.19578840688971838, '(Dog DNA:0.0,Wolf DNA:0.0)': 0.26415206385903794, 'Black Bear DNA': 0.2492467460446437, 'Brown Bear DNA': 0.2720569627150957, 'Cave Bear DNA': 0.24998153071057722}\n",
      "{'Sabertooth DNA [Smilodon]': 0.19184916123493348, 'Homotherium DNA': 0.251148729247931, 'American Cat DNA [Miracinonyx]': 0.16927882984178966, 'Spotted Hyena DNA': 0.20513825235457064, 'Striped Hyena DNA': 0.21500812435877725, 'Chinese Desert cat DNA': 0.16826573427826427, 'African wild cat DNA': 0.16379013191428704, 'Felis Cat A DNA': 0.16842432558873818, 'Wild Cat DNA': 0.16634251352866744, 'Cheetah DNA': 0.17584429564132914, 'Puma DNA': 0.183162155109909, 'Tiger DNA': 0.17590277011844377, 'Lion DNA': 0.18581557474196064, 'Leopard DNA': 0.18830112258561502, '(Dog DNA:0.0,Wolf DNA:0.0)': 0.2643327639573987, 'Black Bear DNA': 0.2542630410819481, '(Brown Bear DNA:0.0460754684945456,Cave Bear DNA:0.024000036490027098)': 0.23637522683628198}\n",
      "{'Sabertooth DNA [Smilodon]': 0.18483291809803443, 'Homotherium DNA': 0.24629123095336328, 'American Cat DNA [Miracinonyx]': 0.1605583117281589, 'Spotted Hyena DNA': 0.19898214627309313, 'Striped Hyena DNA': 0.20982758110774555, 'Chinese Desert cat DNA': 0.15973772830045166, 'African wild cat DNA': 0.15376588030192634, 'Felis Cat A DNA': 0.1590994953131313, 'Wild Cat DNA': 0.15615498486392423, 'Cheetah DNA': 0.16714279361924786, 'Puma DNA': 0.17692627659606588, 'Tiger DNA': 0.16809779372681524, 'Lion DNA': 0.17958858445658743, 'Leopard DNA': 0.18102444317887909, '(Dog DNA:0.0,Wolf DNA:0.0)': 0.2646666855825199, '(Black Bear DNA:0.06090731487308565,(Brown Bear DNA:0.0460754684945456,Cave Bear DNA:0.024000036490027098):0.04301950062741955)': 0.19974350554517367}\n",
      "{'Sabertooth DNA [Smilodon]': 0.17616854529774584, 'Homotherium DNA': 0.23987606590965244, 'American Cat DNA [Miracinonyx]': 0.14978666031077933, 'Spotted Hyena DNA': 0.19135820747304996, 'Striped Hyena DNA': 0.2028015252780418, 'Chinese Desert cat DNA': 0.14923598502280586, 'African wild cat DNA': 0.1421712319274826, 'Felis Cat A DNA': 0.14886279116426288, 'Wild Cat DNA': 0.14474718261201433, 'Cheetah DNA': 0.15738955309965952, 'Puma DNA': 0.16802593871044477, 'Tiger DNA': 0.15795265003211598, 'Lion DNA': 0.17117784469981576, 'Leopard DNA': 0.17299695285589106, '((Dog DNA:0.0,Wolf DNA:0.0):0.11032711287127131,(Black Bear DNA:0.06090731487308565,(Brown Bear DNA:0.0460754684945456,Cave Bear DNA:0.024000036490027098):0.04301950062741955):0.045403932833925104)': 0.15423253632709877}\n",
      "{'Sabertooth DNA [Smilodon]': 0.17579473192722514, 'Homotherium DNA': 0.23980725922829296, 'American Cat DNA [Miracinonyx]': 0.15115452550156666, 'Spotted Hyena DNA': 0.19169271059548798, 'Striped Hyena DNA': 0.20333887166872214, 'Chinese Desert cat DNA': 0.15159107334311206, 'African wild cat DNA': 0.15224081475233497, '(Felis Cat A DNA:0.009167021930354582,Wild Cat DNA:0.005051413378106037)': 0.15015221372769563, 'Cheetah DNA': 0.1597372645914085, 'Puma DNA': 0.16879173235365288, 'Tiger DNA': 0.15965281324371408, 'Lion DNA': 0.17112237348834994, 'Leopard DNA': 0.1741811266334318, '((Dog DNA:0.0,Wolf DNA:0.0):0.11032711287127131,(Black Bear DNA:0.06090731487308565,(Brown Bear DNA:0.0460754684945456,Cave Bear DNA:0.024000036490027098):0.04301950062741955):0.045403932833925104)': 0.15461068905080524}\n",
      "{'Sabertooth DNA [Smilodon]': 0.17619998166375928, 'Homotherium DNA': 0.23993265615949477, 'American Cat DNA [Miracinonyx]': 0.1541668027513003, 'Spotted Hyena DNA': 0.19242741972095107, 'Striped Hyena DNA': 0.20513109292352258, 'Chinese Desert cat DNA': 0.15539132782590456, '(African wild cat DNA:0.0046032018727164324,(Felis Cat A DNA:0.009167021930354582,Wild Cat DNA:0.005051413378106037):0.002514600848077091)': 0.16041214107587537, 'Cheetah DNA': 0.1635328844514453, 'Puma DNA': 0.17092768041962236, 'Tiger DNA': 0.16268732309596218, 'Lion DNA': 0.17209971221190568, 'Leopard DNA': 0.17642187092841793, '((Dog DNA:0.0,Wolf DNA:0.0):0.11032711287127131,(Black Bear DNA:0.06090731487308565,(Brown Bear DNA:0.0460754684945456,Cave Bear DNA:0.024000036490027098):0.04301950062741955):0.045403932833925104)': 0.15542260012272152}\n",
      "{'Sabertooth DNA [Smilodon]': 0.1749747353815433, 'Homotherium DNA': 0.2352130653492072, 'American Cat DNA [Miracinonyx]': 0.15009106042249523, 'Spotted Hyena DNA': 0.1877121345622848, 'Striped Hyena DNA': 0.20029294616714335, 'Chinese Desert cat DNA': 0.15229889195170204, '(African wild cat DNA:0.0046032018727164324,(Felis Cat A DNA:0.009167021930354582,Wild Cat DNA:0.005051413378106037):0.002514600848077091)': 0.15777752634658954, 'Cheetah DNA': 0.1595011226930814, 'Puma DNA': 0.16808817138024573, 'Tiger DNA': 0.16325707437375536, '(Lion DNA:0.036762718272360204,Leopard DNA:0.04108487698887246)': 0.14108593380737675, '((Dog DNA:0.0,Wolf DNA:0.0):0.11032711287127131,(Black Bear DNA:0.06090731487308565,(Brown Bear DNA:0.0460754684945456,Cave Bear DNA:0.024000036490027098):0.04301950062741955):0.045403932833925104)': 0.15393008400883457}\n",
      "{'Sabertooth DNA [Smilodon]': 0.16785634993413934, 'Homotherium DNA': 0.22999907906457237, 'American Cat DNA [Miracinonyx]': 0.13901196245236744, '(Spotted Hyena DNA:0.061025324979073176,Striped Hyena DNA:0.07360613658393172)': 0.12580407047434572, 'Chinese Desert cat DNA': 0.1441581353965128, '(African wild cat DNA:0.0046032018727164324,(Felis Cat A DNA:0.009167021930354582,Wild Cat DNA:0.005051413378106037):0.002514600848077091)': 0.14821774015161449, 'Cheetah DNA': 0.1499533064742731, 'Puma DNA': 0.15518067947601752, 'Tiger DNA': 0.15236655753548645, '(Lion DNA:0.036762718272360204,Leopard DNA:0.04108487698887246)': 0.13053830962844817, '((Dog DNA:0.0,Wolf DNA:0.0):0.11032711287127131,(Black Bear DNA:0.06090731487308565,(Brown Bear DNA:0.0460754684945456,Cave Bear DNA:0.024000036490027098):0.04301950062741955):0.045403932833925104)': 0.14756514735869614}\n",
      "{'Sabertooth DNA [Smilodon]': 0.1624352104808464, 'Homotherium DNA': 0.22629843239710692, '(American Cat DNA [Miracinonyx]:0.025025369167804325,Puma DNA:0.041194086191454406)': 0.11995748552522616, '(Spotted Hyena DNA:0.061025324979073176,Striped Hyena DNA:0.07360613658393172)': 0.12084113722706433, 'Chinese Desert cat DNA': 0.14353363080495632, '(African wild cat DNA:0.0046032018727164324,(Felis Cat A DNA:0.009167021930354582,Wild Cat DNA:0.005051413378106037):0.002514600848077091)': 0.1470387308393065, 'Cheetah DNA': 0.15285272103432443, 'Tiger DNA': 0.1514922255031672, '(Lion DNA:0.036762718272360204,Leopard DNA:0.04108487698887246)': 0.12780739447640838, '((Dog DNA:0.0,Wolf DNA:0.0):0.11032711287127131,(Black Bear DNA:0.06090731487308565,(Brown Bear DNA:0.0460754684945456,Cave Bear DNA:0.024000036490027098):0.04301950062741955):0.045403932833925104)': 0.14426217745277692}\n",
      "{'Sabertooth DNA [Smilodon]': 0.15856240962628218, 'Homotherium DNA': 0.22380531913065388, '((American Cat DNA [Miracinonyx]:0.025025369167804325,Puma DNA:0.041194086191454406):0.013821649562752645,Cheetah DNA:0.046716885071850914)': 0.11264973615216922, '(Spotted Hyena DNA:0.061025324979073176,Striped Hyena DNA:0.07360613658393172)': 0.1187736837718383, 'Chinese Desert cat DNA': 0.1444739336838206, '(African wild cat DNA:0.0046032018727164324,(Felis Cat A DNA:0.009167021930354582,Wild Cat DNA:0.005051413378106037):0.002514600848077091)': 0.14927022543523358, 'Tiger DNA': 0.1522384635806852, '(Lion DNA:0.036762718272360204,Leopard DNA:0.04108487698887246)': 0.12658647819489793, '((Dog DNA:0.0,Wolf DNA:0.0):0.11032711287127131,(Black Bear DNA:0.06090731487308565,(Brown Bear DNA:0.0460754684945456,Cave Bear DNA:0.024000036490027098):0.04301950062741955):0.045403932833925104)': 0.14297735562102404}\n",
      "{'(Sabertooth DNA [Smilodon]:0.05637661511262644,Homotherium DNA:0.12161952461699814)': 0.08955073697766096, '((American Cat DNA [Miracinonyx]:0.025025369167804325,Puma DNA:0.041194086191454406):0.013821649562752645,Cheetah DNA:0.046716885071850914)': 0.09057351616207314, '(Spotted Hyena DNA:0.061025324979073176,Striped Hyena DNA:0.07360613658393172)': 0.10274326749025182, 'Chinese Desert cat DNA': 0.12426611201128905, '(African wild cat DNA:0.0046032018727164324,(Felis Cat A DNA:0.009167021930354582,Wild Cat DNA:0.005051413378106037):0.002514600848077091)': 0.12635481199956747, 'Tiger DNA': 0.131787621010473, '(Lion DNA:0.036762718272360204,Leopard DNA:0.04108487698887246)': 0.10619406139776015, '((Dog DNA:0.0,Wolf DNA:0.0):0.11032711287127131,(Black Bear DNA:0.06090731487308565,(Brown Bear DNA:0.0460754684945456,Cave Bear DNA:0.024000036490027098):0.04301950062741955):0.045403932833925104)': 0.1256658991126428}\n",
      "{'(Sabertooth DNA [Smilodon]:0.05637661511262644,Homotherium DNA:0.12161952461699814)': 0.08275744101546997, '((American Cat DNA [Miracinonyx]:0.025025369167804325,Puma DNA:0.041194086191454406):0.013821649562752645,Cheetah DNA:0.046716885071850914)': 0.08461946807497647, '(Spotted Hyena DNA:0.061025324979073176,Striped Hyena DNA:0.07360613658393172)': 0.09257536406163248, 'Chinese Desert cat DNA': 0.11647262129202769, '(African wild cat DNA:0.0046032018727164324,(Felis Cat A DNA:0.009167021930354582,Wild Cat DNA:0.005051413378106037):0.002514600848077091)': 0.12090494336823196, '(Tiger DNA:0.05236788733475521,(Lion DNA:0.036762718272360204,Leopard DNA:0.04108487698887246):0.026774327722042357)': 0.07947523739950184, '((Dog DNA:0.0,Wolf DNA:0.0):0.11032711287127131,(Black Bear DNA:0.06090731487308565,(Brown Bear DNA:0.0460754684945456,Cave Bear DNA:0.024000036490027098):0.04301950062741955):0.045403932833925104)': 0.11920947922418483}\n",
      "{'((Sabertooth DNA [Smilodon]:0.05637661511262644,Homotherium DNA:0.12161952461699814):0.013571059342785026,(Spotted Hyena DNA:0.061025324979073176,Striped Hyena DNA:0.07360613658393172):0.023388982388947537)': 0.07724296665792305, '((American Cat DNA [Miracinonyx]:0.025025369167804325,Puma DNA:0.041194086191454406):0.013821649562752645,Cheetah DNA:0.046716885071850914)': 0.08341861823448352, 'Chinese Desert cat DNA': 0.1186384009767198, '(African wild cat DNA:0.0046032018727164324,(Felis Cat A DNA:0.009167021930354582,Wild Cat DNA:0.005051413378106037):0.002514600848077091)': 0.11926733563657774, '(Tiger DNA:0.05236788733475521,(Lion DNA:0.036762718272360204,Leopard DNA:0.04108487698887246):0.026774327722042357)': 0.07987209511936455, '((Dog DNA:0.0,Wolf DNA:0.0):0.11032711287127131,(Black Bear DNA:0.06090731487308565,(Brown Bear DNA:0.0460754684945456,Cave Bear DNA:0.024000036490027098):0.04301950062741955):0.045403932833925104)': 0.12621271790891916}\n",
      "{'(((Sabertooth DNA [Smilodon]:0.05637661511262644,Homotherium DNA:0.12161952461699814):0.013571059342785026,(Spotted Hyena DNA:0.061025324979073176,Striped Hyena DNA:0.07360613658393172):0.023388982388947537):0.0026333657512594005,((Dog DNA:0.0,Wolf DNA:0.0):0.11032711287127131,(Black Bear DNA:0.06090731487308565,(Brown Bear DNA:0.0460754684945456,Cave Bear DNA:0.024000036490027098):0.04301950062741955):0.045403932833925104):0.05160311700225552)': 0.08140064029104653, '((American Cat DNA [Miracinonyx]:0.025025369167804325,Puma DNA:0.041194086191454406):0.013821649562752645,Cheetah DNA:0.046716885071850914)': 0.07798870696278232, 'Chinese Desert cat DNA': 0.11391531983901104, '(African wild cat DNA:0.0046032018727164324,(Felis Cat A DNA:0.009167021930354582,Wild Cat DNA:0.005051413378106037):0.002514600848077091)': 0.11180750087284301, '(Tiger DNA:0.05236788733475521,(Lion DNA:0.036762718272360204,Leopard DNA:0.04108487698887246):0.026774327722042357)': 0.07750112165249132}\n",
      "{'((((Sabertooth DNA [Smilodon]:0.05637661511262644,Homotherium DNA:0.12161952461699814):0.013571059342785026,(Spotted Hyena DNA:0.061025324979073176,Striped Hyena DNA:0.07360613658393172):0.023388982388947537):0.0026333657512594005,((Dog DNA:0.0,Wolf DNA:0.0):0.11032711287127131,(Black Bear DNA:0.06090731487308565,(Brown Bear DNA:0.0460754684945456,Cave Bear DNA:0.024000036490027098):0.04301950062741955):0.045403932833925104):0.05160311700225552):0.018324025702512257,(Tiger DNA:0.05236788733475521,(Lion DNA:0.036762718272360204,Leopard DNA:0.04108487698887246):0.026774327722042357):0.014424507063957044)': 0.07824065549956677, '((American Cat DNA [Miracinonyx]:0.025025369167804325,Puma DNA:0.041194086191454406):0.013821649562752645,Cheetah DNA:0.046716885071850914)': 0.08712757454334838, 'Chinese Desert cat DNA': 0.12202021852011685, '(African wild cat DNA:0.0046032018727164324,(Felis Cat A DNA:0.009167021930354582,Wild Cat DNA:0.005051413378106037):0.002514600848077091)': 0.11905604379921858}\n",
      "{'(((((Sabertooth DNA [Smilodon]:0.05637661511262644,Homotherium DNA:0.12161952461699814):0.013571059342785026,(Spotted Hyena DNA:0.061025324979073176,Striped Hyena DNA:0.07360613658393172):0.023388982388947537):0.0026333657512594005,((Dog DNA:0.0,Wolf DNA:0.0):0.11032711287127131,(Black Bear DNA:0.06090731487308565,(Brown Bear DNA:0.0460754684945456,Cave Bear DNA:0.024000036490027098):0.04301950062741955):0.045403932833925104):0.05160311700225552):0.018324025702512257,(Tiger DNA:0.05236788733475521,(Lion DNA:0.036762718272360204,Leopard DNA:0.04108487698887246):0.026774327722042357):0.014424507063957044):0.009037759995699647,((American Cat DNA [Miracinonyx]:0.025025369167804325,Puma DNA:0.041194086191454406):0.013821649562752645,Cheetah DNA:0.046716885071850914):0.017924679039481257)': 0.11144335197255335, 'Chinese Desert cat DNA': 0.159874234658327, '(African wild cat DNA:0.0046032018727164324,(Felis Cat A DNA:0.009167021930354582,Wild Cat DNA:0.005051413378106037):0.002514600848077091)': 0.15691005993742874}\n",
      "{'(((((Sabertooth DNA [Smilodon]:0.05637661511262644,Homotherium DNA:0.12161952461699814):0.013571059342785026,(Spotted Hyena DNA:0.061025324979073176,Striped Hyena DNA:0.07360613658393172):0.023388982388947537):0.0026333657512594005,((Dog DNA:0.0,Wolf DNA:0.0):0.11032711287127131,(Black Bear DNA:0.06090731487308565,(Brown Bear DNA:0.0460754684945456,Cave Bear DNA:0.024000036490027098):0.04301950062741955):0.045403932833925104):0.05160311700225552):0.018324025702512257,(Tiger DNA:0.05236788733475521,(Lion DNA:0.036762718272360204,Leopard DNA:0.04108487698887246):0.026774327722042357):0.014424507063957044):0.009037759995699647,((American Cat DNA [Miracinonyx]:0.025025369167804325,Puma DNA:0.041194086191454406):0.013821649562752645,Cheetah DNA:0.046716885071850914):0.017924679039481257)': 0.11144335197255335, 'Chinese Desert cat DNA': 0.159874234658327, '(African wild cat DNA:0.0046032018727164324,(Felis Cat A DNA:0.009167021930354582,Wild Cat DNA:0.005051413378106037):0.002514600848077091)': 0.15691005993742874}\n"
     ]
    }
   ],
   "source": [
    "neighbor = neighbor(matrice,uto)[0] + \";\""
   ]
  },
  {
   "cell_type": "code",
   "execution_count": 46,
   "metadata": {},
   "outputs": [
    {
     "data": {
      "image/png": "[encoded data removed]",
      "text/plain": [
       "<IPython.core.display.Image object>"
      ]
     },
     "execution_count": 46,
     "metadata": {},
     "output_type": "execute_result"
    }
   ],
   "source": [
    "t = Tree(neighbor)\n",
    "ts = TreeStyle()\n",
    "ts.show_branch_length = True\n",
    "t.render('%%inline', w=183, units='mm', tree_style=ts)"
   ]
  },
  {
   "cell_type": "markdown",
   "metadata": {},
   "source": [
    "----\n",
    "## Bootstrap\n",
    "\n",
    "Le bootstrap est une méthode permettant de calculer la robustesse des branches d'un arbre. Il sagit de recréer un jeu de données artificiel en tirant n positions dans l'alignement des séquences avec remise, n étant la longueur de l'alignement. On recréer un arbre à partir de ces nouvelles données puis on le compare avec l'arbre obtenu avec les données réelles. Si une branche de l'arbre réelle est présente dans l'arbre artificiel, son bootstrap augmente de 1. On répètera la procédure 100 fois afin d'avoir un score sur 100 pour chaque branche.\n",
    "\n",
    "**Exercice 12 :** Calculer le bootstrap des branches des arbres obtenus avec UPGMA et neighbor-joining."
   ]
  },
  {
   "cell_type": "code",
   "execution_count": 47,
   "metadata": {},
   "outputs": [],
   "source": [
    "# À remplir"
   ]
  },
  {
   "cell_type": "markdown",
   "metadata": {},
   "source": [
    "----\n",
    "## Conclusion\n",
    "\n",
    "**Exercice 12 :** Quelles sont vos conclusions par rapport à l'arbre phylogénique de *smilodon*, *homotherium* et _M. trumani_ ? Comparer les deux méthodes. Comment expliquer les caractéristiques morphologiques similaires entre ces trois espèces ? Une réponse détaillée est attendue."
   ]
  },
  {
   "cell_type": "markdown",
   "metadata": {
    "collapsed": true
   },
   "source": [
    "Réponse :\n",
    "\n",
    "Les trois espèces présentent plusieurs ancêtres communs, ce qui peut expliquer certaines de leur caractéristiques morphologiques communes.\n",
    "\n",
    "Dans l'arbre phylogénique créé par neighbor joining, le smilodon est plus apparenté à l'homotherium qu'au M.trumani.\n",
    "Dans les deux arbres, le M. trumani est plus similaire au smilodon qu'à l'homotherium."
   ]
  },
  {
   "cell_type": "code",
   "execution_count": null,
   "metadata": {},
   "outputs": [],
   "source": []
  }
 ],
 "metadata": {
  "kernelspec": {
   "display_name": "Python 3",
   "language": "python",
   "name": "python3"
  },
  "language_info": {
   "codemirror_mode": {
    "name": "ipython",
    "version": 3
   },
   "file_extension": ".py",
   "mimetype": "text/x-python",
   "name": "python",
   "nbconvert_exporter": "python",
   "pygments_lexer": "ipython3",
   "version": "3.7.4"
  }
 },
 "nbformat": 4,
 "nbformat_minor": 2
}
